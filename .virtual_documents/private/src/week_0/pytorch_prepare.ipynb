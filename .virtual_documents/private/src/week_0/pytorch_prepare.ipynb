import torch
x = torch.rand(5,3)
