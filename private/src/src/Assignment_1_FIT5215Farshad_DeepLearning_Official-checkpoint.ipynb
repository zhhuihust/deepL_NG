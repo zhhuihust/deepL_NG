{
 "cells": [
  {
   "cell_type": "markdown",
   "metadata": {
    "id": "yBGe4m13MKhM"
   },
   "source": [
    "###### <span style=\"color:#0b486b\">  FIT5215: Deep Learning (2024)</span>\n",
    "***\n",
    "*Lecturer (Malaysia):*  **Dr Arghya Pal** | arghya.pal@monash.edu <br/>\n",
    "*Lecturer (Malaysia):*  **Dr Lim Chern Hong** | lim.chernhong@monash.edu <br/>  <br/>\n",
    "\n",
    "\n",
    "*CE/Lecturer (Clayton):*  **Dr Trung Le** | trunglm@monash.edu <br/>\n",
    "*Lecturer (Clayton):* **Prof Dinh Phung** | dinh.phung@monash.edu <br/>\n",
    "\n",
    "<br/> <br/>\n",
    "School of Information Technology, Monash University, Malaysia\n",
    "Faculty of Information Technology, Monash University, Australia\n",
    "***"
   ]
  },
  {
   "cell_type": "markdown",
   "metadata": {
    "id": "-OL1yqeGMc1f"
   },
   "source": [
    "# <span style=\"color:#0b486b\">  Student Information</span>\n",
    "***\n",
    "Surname: **[Noravesh]**  <br/>\n",
    "Firstname: **[Farshad ]**    <br/>\n",
    "Student ID: **[Enter your ID here ]**    <br/>\n",
    "Email: **[Enter your email  here ]**    <br/>\n",
    "Your tutorial time: **[Enter your tutorial time here ]**    <br/>\n",
    "***\n",
    "\n",
    "\n",
    "**You can run your codes on Google Colab. In this case, you have to make a copy of your Google colab notebook including the traces and progresses of model training before submitting.**"
   ]
  },
  {
   "cell_type": "markdown",
   "metadata": {
    "id": "qcV5D0O8Miro"
   },
   "source": [
    "# <span style=\"color:#0b486b\">Deep Neural Networks</span>\n",
    "### Due: <span style=\"color:red\">11:55pm Wednesday, 11 September 2024</span>  (Wednesday)\n",
    "\n",
    "#### <span style=\"color:red\">Important note:</span> This is an **individual** assignment. It contributes **20%** to your final mark. Read the assignment instructions carefully."
   ]
  },
  {
   "cell_type": "markdown",
   "metadata": {
    "id": "psTfJNhSMy5Q"
   },
   "source": [
    "## <span style=\"color:#0b486b\">What to submit</span>\n",
    "\n",
    "This assignment is to be completed individually and submitted to Moodle unit site. **By the due date, you are required to submit one  <span style=\"color:red; font-weight:bold\">single zip file, named xxx_assignment01_solution.zip</span> where `xxx` is your student ID, to the corresponding Assignment (Dropbox) in Moodle**. You can use Google Colab to do Assigmnent 1 but you need to save it to an `*.ipynb` file to submit to the unit Moodle.\n",
    "\n",
    "**More importantly, if you use Google Colab to do this assignment, you need to first make a copy of this notebook on your Google drive**."
   ]
  },
  {
   "cell_type": "markdown",
   "metadata": {
    "id": "4qDsCuB0M4-y"
   },
   "source": [
    "***For example, if your student ID is <span style=\"color:red; font-weight:bold\">12356</span>, then gather all of your assignment solution to folder, create a zip file named <span style=\"color:red; font-weight:bold\">123456_assignment01_solution.zip</span> and submit this file.***"
   ]
  },
  {
   "cell_type": "markdown",
   "metadata": {
    "id": "5f1tbgtRM9XO"
   },
   "source": [
    "Within this zip folder, you **must** submit the following files:\n",
    "1.\t**Assignment01_solution.ipynb**:  this is your Python notebook solution source file.\n",
    "1.\t**Assignment01_output.html**: this is the output of your Python notebook solution *exported* in html format.\n",
    "1.\tAny **extra files or folder** needed to complete your assignment (e.g., images used in your answers)."
   ]
  },
  {
   "cell_type": "markdown",
   "metadata": {
    "id": "b3T3dilWNG29"
   },
   "source": [
    "Since the notebook is quite big to load and work together, one recommended option is to split solution into three parts and work on them seperately. In that case, replace **Assignment01_solution.ipynb** by three notebooks: **Assignment01_Part1_solution.ipynb**, **Assignment01_Part2_solution.ipynb** and **Assignment01_Part3_solution.ipynb**"
   ]
  },
  {
   "cell_type": "markdown",
   "metadata": {
    "id": "t9Krbduz1r69"
   },
   "source": [
    "\n",
    "\n"
   ]
  },
  {
   "cell_type": "markdown",
   "metadata": {
    "id": "VwocRJxX2OF6"
   },
   "source": [
    "## <span style=\"color:#0b486b\">Part 1: Theory and Knowledge Questions</span>\n",
    "<div style=\"text-align: right\"><span style=\"color:red; font-weight:bold\">[Total marks for this part: 30 points]<span></div>"
   ]
  },
  {
   "cell_type": "markdown",
   "metadata": {
    "id": "N6leQY732VBH"
   },
   "source": [
    "The first part of this assignment is to demonstrate your knowledge in deep learning that you have acquired from the lectures and tutorials materials. Most of the contents in this assignment are drawn from **the lectures and tutorials from weeks 1 to 4**. Going through these materials before attempting this part is highly recommended."
   ]
  },
  {
   "cell_type": "markdown",
   "metadata": {
    "id": "2yaMzVZO2tr1"
   },
   "source": [
    "####  <span style=\"color:red\">**Question 1.1**</span> **Activation function plays an important role in modern Deep NNs. For each of the activation functions below, state its output range, find its derivative (show your steps), and plot the activation fuction and its derivative**\n",
    "\n",
    "<span style=\"color:red\">**(a)**</span> Exponential linear unit (ELU): $\\text{ELU}(x)=\\begin{cases}\n",
    "0.1\\left(\\exp(x)-1\\right) & \\text{if}\\,x\\leq0\\\\\n",
    "x & \\text{if}\\,x>0\n",
    "\\end{cases}$\n",
    "<div style=\"text-align: right\"><span style=\"color:red\">[1.5 points]</span></div>\n",
    "\n",
    "<span style=\"color:red\">**(b)**</span> Gaussian Error Linear Unit (GELU): $\\text{GELU}(x)=x\\Phi(x)$ where $\\Phi(x)$ is the `probability cummulative function` of the standard Gaussian distribution or $\\Phi(x) = \\mathbb{P}\\left(X\\leq x\\right)$ where $X \\sim N\\left(0,1\\right)$. In addition, the GELU activation fuction (the link for the [main paper](https://arxiv.org/pdf/1606.08415v5.pdf)) has been widely used in the state-of-the-art Vision for Transformers (e.g., here is the link for [the main ViT paper](https://arxiv.org/pdf/2010.11929v2.pdf)).\n",
    "<div style=\"text-align: right\"><span style=\"color:red\">[1.5 points]</span></div>"
   ]
  },
  {
   "cell_type": "code",
   "execution_count": null,
   "metadata": {},
   "outputs": [],
   "source": [
    "import matplotlib.pyplot as plt\n",
    "import numpy as np\n",
    "\n",
    "def ELUActivate (x):\n",
    "    ELU = np.where(x <= 0, 0.1 * (np.exp(x) - 1), x)\n",
    "    return ELU\n",
    "def DElu(x):\n",
    "    dELU = np.where(x<=0,0.1*np.exp(x),1)\n",
    "    return dELU\n",
    "x = np.arange(-4,4,0.01)\n",
    "plt.figure(1)\n",
    "plt.plot(x,ELUActivate(x))\n",
    "plt.figure(2)\n",
    "plt.plot(x,DElu(x))"
   ]
  },
  {
   "cell_type": "markdown",
   "metadata": {
    "id": "WNNTutRH29Bw"
   },
   "source": [
    "*Write your answer here. You can add more cells if needed.*\n",
    "\n",
    "import matplotlib.pyplot as plt\n",
    "import numpy as np\n",
    "\n",
    "def ELUActivate (x):\n",
    "    ELU = np.where(x <= 0, 0.1 * (np.exp(x) - 1), x)\n",
    "    return ELU\n",
    "def DElu(x):\n",
    "    dELU = np.where(x<=0,0.1*np.exp(x),1)\n",
    "    return dELU\n",
    "x = np.arange(-4,4,0.01)\n",
    "plt.figure(1)\n",
    "plt.plot(x,ELUActivate(x))\n",
    "plt.figure(2)\n",
    "plt.plot(x,DElu(x))\n",
    "\n",
    "\n",
    "\n",
    "\n",
    "\n",
    "\n"
   ]
  },
  {
   "cell_type": "markdown",
   "metadata": {
    "id": "FdZLZAfnH8bf"
   },
   "source": [
    "####  <span style=\"color:red\">**Question 1.2:**</span> **Assume that we feed a data point $x$ with a ground-truth label $y=2$ to the feed-forward neural network with the `ReLU activation` function as shown in the following figure**\n"
   ]
  },
  {
   "cell_type": "markdown",
   "metadata": {
    "id": "s7Ppx5N6xC9f"
   },
   "source": [
    "![image.png](data:image/png;base64,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)"
   ]
  },
  {
   "cell_type": "markdown",
   "metadata": {
    "id": "C98SALK3of5D"
   },
   "source": [
    "<span style=\"color:red\">**(a)**</span>  What is the numerical value of the latent presentation $h^1(x)$?\n",
    "<div style=\"text-align: right\"><span style=\"color:red\">[1 point]</span></div>\n",
    "\n",
    "<span style=\"color:red\">**(b)**</span>  What is the numerical value of the latent presentation $h^2(x)$?\n",
    "<div style=\"text-align: right\"><span style=\"color:red\">[1 point]</span></div>\n",
    "\n",
    "<span style=\"color:red\">**(c)**</span>  What is the numerical value of the logit $h^3(x)$?\n",
    "<div style=\"text-align: right\"><span style=\"color:red\">[1 point]</span></div>\n",
    "\n",
    "\n",
    "<span style=\"color:red\">**(d)**</span>  What is the corresonding prediction probabilities $p(x)$?\n",
    "<div style=\"text-align: right\"><span style=\"color:red\">[1 point]</span></div>\n",
    "\n",
    "<span style=\"color:red\">**(e)**</span>  What is the predicted label $\\widehat{y}$? Is it a correct and an incorect prediction? Remind that $y=2$.\n",
    "<div style=\"text-align: right\"><span style=\"color:red\">[1 point]</span></div>\n",
    "\n",
    "\n",
    "<span style=\"color:red\">**(f)**</span>  What is the cross-entropy loss caused by the feed-forward neural network at $(x,y)$? Remind that $y=2$.\n",
    "<div style=\"text-align: right\"><span style=\"color:red\">[1 point]</span></div>\n",
    "\n",
    "<span style=\"color:red\">**(g)**</span>  Why is the cross-entropy loss caused by the feed-forward neural network at $(x,y)$ (i.e., $\\text{CE}(1_y, p(x))$) always non-negative? When does this $\\text{CE}(1_y, p(x))$ loss get the value $0$? Note that you need to answer this question for a general pair $(x,y)$ and a general feed-forward neural network with, for example $M=4$ classes?   \n",
    "<div style=\"text-align: right\"><span style=\"color:red\">[1 point]</span></div>\n",
    "\n",
    "\n",
    "*You must show both formulas and numerical results for earning full mark. Although it is optional, it is great if you show your PyTorch code for your computation.*"
   ]
  },
  {
   "cell_type": "code",
   "execution_count": null,
   "metadata": {},
   "outputs": [],
   "source": [
    "#question a\n",
    "import torch\n",
    "from torch import nn\n",
    "\n",
    "w1 = torch.tensor([[1, -1, 1, -1], [-1, 1, -1, 1], [2, 2, -2, -2]],dtype=torch.float32) \n",
    "b1 = torch.tensor([0, 1, 0, 1],dtype=torch.float32)\n",
    "w2 = torch.tensor([[-1, 1, -1], [1, 1, -1], [-1, 1, 1], [-1, -1, 2]],dtype=torch.float32)  \n",
    "b2 = torch.tensor([1 ,0 ,1],dtype=torch.float32)\n",
    "w3 = torch.tensor([[2 ,-2],[-2 ,2],[2 ,2]],dtype=torch.float32)\n",
    "b3 = torch.tensor([1 ,1.5],dtype=torch.float32)\n",
    "\n",
    "x = torch.tensor([1.2,-1,2])\n",
    "g1 = torch.matmul(x,w1)+b1\n",
    "relu = nn.ReLU()\n",
    "h1 = relu(g1)\n",
    "print (h1)\n",
    "\n",
    "g2 = torch.matmul(h1,w2)+b2\n",
    "h2 = relu(g2)\n",
    "print(h2)\n",
    "\n",
    "g3 = torch.matmul(h2,w3)+b3\n",
    "sigmoid = nn.Sigmoid()\n",
    "p3 = sigmoid(g3)\n",
    "print (g3)\n",
    "print(p3)\n",
    "\n",
    "predicted_label = torch.argmax(p3).item()+1  # 找到最大概率的索引\n",
    "print(\"预测标签:\", predicted_label)\n",
    "\n"
   ]
  },
  {
   "cell_type": "code",
   "execution_count": null,
   "metadata": {},
   "outputs": [],
   "source": [
    "class Layer3Model(nn.Module):\n",
    "    def __init__(self):\n",
    "        super().__init__()\n",
    "        self.NeuralN = nn.Sequential(\n",
    "                nn.Linear(in_features=3,out_features=4),\n",
    "                nn.ReLU(),\n",
    "                nn.Linear(in_features=4,out_features=3),\n",
    "                nn.ReLU(),\n",
    "                nn.Linear(in_features=3,out_features=2))\n",
    "                \n",
    "    def forward(self,x):\n",
    "        return self.NeuralN(x)\n",
    "\n"
   ]
  },
  {
   "cell_type": "markdown",
   "metadata": {
    "id": "2fFwOYCAotOt"
   },
   "source": [
    "####  <span style=\"color:red\">**Question 1.3:**</span>\n",
    "For **Question 1.3**, you have two options:\n",
    "* **(1)** *perform the forward, backward propagation, and SGD update for `one mini-batch`* (**10 points**), or\n",
    "* **(2)** *manually implement a feed-forward neural network* that can work on real tabular datasets (**20 points**).\n",
    "\n",
    "You can choose either **(1)** or **(2)** to proceed.   "
   ]
  },
  {
   "cell_type": "markdown",
   "metadata": {
    "id": "_QTwUZrbW9xa"
   },
   "source": [
    "### <span style=\"color:red\">**Option 1**</span>\n",
    "<div style=\"text-align: right\"><span style=\"color:red; font-weight:bold\">[Total marks for this option: 10 points]<span></div>"
   ]
  },
  {
   "cell_type": "markdown",
   "metadata": {
    "id": "ptEOrYUlXA9S"
   },
   "source": [
    "**Assume that we are constructing a multilayered feed-forward neural network for a classification problem with three classes where the model parameters will be generated randomly using your student ID. The architecture of this network is $3 (Input)\\rightarrow 5(ELU) \\rightarrow 3(Output)$ as shown in the following figure. Note that the ELU has the same formula as the one in Q1.1.**\n"
   ]
  },
  {
   "cell_type": "markdown",
   "metadata": {
    "id": "0RFVuuZCXNoX"
   },
   "source": [
    "We feed a batch $X$ with the labels $Y$ as shown in the figure. Answer the following questions."
   ]
  },
  {
   "cell_type": "markdown",
   "metadata": {
    "id": "EqiROIklpO6o"
   },
   "source": [
    "![image.png](data:image/png;base64,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)"
   ]
  },
  {
   "cell_type": "markdown",
   "metadata": {
    "id": "wxdzAmFsYdvz"
   },
   "source": [
    "**You need to show both formulas, numerical results, and your PyTorch code for your computation for earning full marks.**"
   ]
  },
  {
   "cell_type": "code",
   "execution_count": null,
   "metadata": {
    "colab": {
     "base_uri": "https://localhost:8080/"
    },
    "id": "x6vOx1ywMjbS",
    "outputId": "2bcb041a-f8c0-4364-a335-24fe38fc8809"
   },
   "outputs": [],
   "source": [
    "import torch\n",
    "student_id = 1234           #insert your student id here for example 1234\n",
    "torch.manual_seed(student_id)"
   ]
  },
  {
   "cell_type": "code",
   "execution_count": null,
   "metadata": {
    "id": "DJGp_k01BrLd"
   },
   "outputs": [],
   "source": [
    "#Code to generate random matrices and biases for W1, b1, W2, b2\n",
    "W1 = torch.randn((3, 5), dtype=torch.float32, requires_grad=True)  # 输入层到隐藏层，形状为 (3, 5)\n",
    "b1 = torch.randn((5,), dtype=torch.float32, requires_grad=True)\n",
    "\n",
    "W2 = torch.randn((5, 3), dtype=torch.float32, requires_grad=True)  # 隐藏层到输出层，形状为 (5, 3)\n",
    "b2 = torch.randn((3,), dtype=torch.float32, requires_grad=True)\n",
    "\n"
   ]
  },
  {
   "cell_type": "markdown",
   "metadata": {
    "id": "wTkZcLIdZnhw"
   },
   "source": [
    "**Forward propagation**\n",
    "\n",
    "<span style=\"color:red\">**(a)**</span>  What is the value of $\\bar{h}^{1}(x)$ (the pre-activation values of $h^1$)?\n",
    "<div style=\"text-align: right\"><span style=\"color:red\">[0.5 point]</span></div>\n"
   ]
  },
  {
   "cell_type": "code",
   "execution_count": null,
   "metadata": {
    "id": "WqZS9W-cY2fm"
   },
   "outputs": [],
   "source": [
    "#Show your code\n",
    "x = torch.tensor([[-1,2,1],[1.5,0.5,0.5],[2,-1,4],[-1,1,0.5]])\n",
    "g1 = torch.matmul(x, W1) + b1\n",
    "\n",
    "\n",
    "print(g1)\n"
   ]
  },
  {
   "cell_type": "markdown",
   "metadata": {
    "id": "XzqKGCm8ZuQX"
   },
   "source": [
    "<span style=\"color:red\">**(b)**</span>  What is the value of $h^{1}(x)$?\n",
    "<div style=\"text-align: right\"><span style=\"color:red\">[0.5 point]</span></div>"
   ]
  },
  {
   "cell_type": "code",
   "execution_count": null,
   "metadata": {
    "id": "YXX3JH0TZzLi"
   },
   "outputs": [],
   "source": [
    "#Show your code\n",
    "elu = nn.ELU()\n",
    "h1 = elu(g1)\n",
    "print(h1)\n"
   ]
  },
  {
   "cell_type": "markdown",
   "metadata": {
    "id": "NkegKdOyam8I"
   },
   "source": [
    "<span style=\"color:red\">**(c)**</span>  What is the predicted value $\\widehat{y}$?\n",
    "<div style=\"text-align: right\"><span style=\"color:red\">[0.5 point]</span></div>"
   ]
  },
  {
   "cell_type": "code",
   "execution_count": null,
   "metadata": {
    "id": "IMe0AZwBamCU"
   },
   "outputs": [],
   "source": [
    "#Show your code\n",
    "g2 = torch.matmul(h1, W2) + b2\n",
    "softmax = nn.Softmax(dim=1)\n",
    "h2 = softmax(g2)\n",
    "y_hat = torch.argmax(h2,dim=1)+1\n",
    "print(y_hat)"
   ]
  },
  {
   "cell_type": "markdown",
   "metadata": {
    "id": "HYRtCEVBZ3Vo"
   },
   "source": [
    "(d) Suppose that we use the cross-entropy (CE) loss. What is the value of the CE loss $l$ incurred by the mini-batch?\n",
    "\n",
    "[0.5 point]"
   ]
  },
  {
   "cell_type": "code",
   "execution_count": null,
   "metadata": {
    "id": "FuNtYF3LbghK"
   },
   "outputs": [],
   "source": [
    "#Show your code\n",
    "\n",
    "\n",
    "\n",
    "y_true = torch.tensor([0, 1, 0, 2], dtype=torch.long)\n",
    "\n",
    "loss_fn = nn.CrossEntropyLoss()\n",
    "loss = loss_fn(g2, y_true)\n",
    "print(loss)"
   ]
  },
  {
   "cell_type": "markdown",
   "metadata": {
    "id": "JO5eW61NcmwU"
   },
   "source": [
    "**Backward propagation**\n",
    "\n",
    "<span style=\"color:red\">**(e)**</span> What are the derivatives $\\frac{\\partial l}{\\partial h^{2}},\\frac{\\partial l}{\\partial W^{2}}$, and $\\frac{\\partial l}{\\partial b^{2}}$?\n",
    "<div style=\"text-align: right\"><span style=\"color:red\">[3 points]</span></div>"
   ]
  },
  {
   "cell_type": "code",
   "execution_count": null,
   "metadata": {
    "id": "eJssdISPcnLG"
   },
   "outputs": [],
   "source": [
    "#Show your code\n",
    "\n",
    "\n",
    "loss.backward()\n",
    "\n",
    "print(\"dl/dh2:\\n\", h1.grad)  \n",
    "print(\"dl/dW2:\\n\", w2.grad)  \n",
    "print(\"dl/db2:\\n\", b2.grad)  \n"
   ]
  },
  {
   "cell_type": "markdown",
   "metadata": {
    "id": "uNC-1Y3acpoP"
   },
   "source": [
    "<span style=\"color:red\">**(f)**</span> What are the derivatives $\\frac{\\partial l}{\\partial h^{1}}, \\frac{\\partial l}{\\partial \\bar{h}^{1}},\\frac{\\partial l}{\\partial W^{1}}$, and $\\frac{\\partial l}{\\partial b^{1}}$?\n",
    "<div style=\"text-align: right\"><span style=\"color:red\">[3 points]</span></div>"
   ]
  },
  {
   "cell_type": "code",
   "execution_count": null,
   "metadata": {
    "id": "_RT0ZJYkcxGX"
   },
   "outputs": [],
   "source": [
    "#Show your code\n",
    "print(\"dl/dh1:\\n\", h1.grad)\n",
    "print(\"dl/dg1:\\n\", x.grad)  \n",
    "print(\"dl/dw1:\\n\", w1.grad)\n",
    "print(\"dl/db1:\\n\", b1.grad)\n"
   ]
  },
  {
   "cell_type": "markdown",
   "metadata": {
    "id": "P9QBp-Oxc6uo"
   },
   "source": [
    "**SGD update**\n",
    "\n",
    "<span style=\"color:red\">**(g)**</span> Assume that we use SGD with learning rate $\\eta=0.01$ to update the model parameters. What are the values of $W^2, b^2$ and $W^1, b^1$ after updating?\n",
    "<div style=\"text-align: right\"><span style=\"color:red\">[2 points]</span></div>"
   ]
  },
  {
   "cell_type": "code",
   "execution_count": null,
   "metadata": {
    "id": "ChQwqLuqc7Hd"
   },
   "outputs": [],
   "source": [
    "#Show your code\n",
    "learning_rate = 0.01\n",
    "with torch.no_grad():\n",
    "    w1 -= learning_rate * w1.grad\n",
    "    b1 -= learning_rate * b1.grad\n",
    "    w2 -= learning_rate * w2.grad\n",
    "    b2 -= learning_rate * b2.grad\n",
    "print(\"Updated W1:\\n\", w1)\n",
    "print(\"Updated b1:\\n\", b1)\n",
    "print(\"Updated W2:\\n\", w2)\n",
    "print(\"Updated b2:\\n\", b2)\n"
   ]
  },
  {
   "cell_type": "markdown",
   "metadata": {
    "id": "0xzHT1andNhZ"
   },
   "source": [
    "### <span style=\"color:red\">**Option 2**</span>\n",
    "<div style=\"text-align: right\"><span style=\"color:red; font-weight:bold\">[Total marks for this option: 20 points]<span></div>"
   ]
  },
  {
   "cell_type": "code",
   "execution_count": 1,
   "metadata": {
    "id": "84IO-qKf195A"
   },
   "outputs": [],
   "source": [
    "import torch\n",
    "from torch.utils.data import DataLoader\n",
    "from torchvision import datasets, transforms"
   ]
  },
  {
   "cell_type": "markdown",
   "metadata": {
    "id": "crQKhy56BEv1"
   },
   "source": [
    "**In Option 2, you need to implement a feed-forward NN manually using PyTorch and auto-differentiation of PyTorch. We then manually train the model on the MNIST dataset**."
   ]
  },
  {
   "cell_type": "markdown",
   "metadata": {
    "id": "7jQL_a-qBzuy"
   },
   "source": [
    "We first download the `MNIST` dataset and preprocess it."
   ]
  },
  {
   "cell_type": "code",
   "execution_count": 2,
   "metadata": {
    "id": "koAVzeDhBFgI"
   },
   "outputs": [
    {
     "name": "stdout",
     "output_type": "stream",
     "text": [
      "Downloading http://yann.lecun.com/exdb/mnist/train-images-idx3-ubyte.gz\n",
      "Failed to download (trying next):\n",
      "<urlopen error [Errno 11001] getaddrinfo failed>\n",
      "\n",
      "Downloading https://ossci-datasets.s3.amazonaws.com/mnist/train-images-idx3-ubyte.gz\n",
      "Failed to download (trying next):\n",
      "<urlopen error [Errno 11001] getaddrinfo failed>\n",
      "\n"
     ]
    },
    {
     "ename": "RuntimeError",
     "evalue": "Error downloading train-images-idx3-ubyte.gz",
     "output_type": "error",
     "traceback": [
      "\u001b[1;31m---------------------------------------------------------------------------\u001b[0m",
      "\u001b[1;31mRuntimeError\u001b[0m                              Traceback (most recent call last)",
      "Cell \u001b[1;32mIn[2], line 8\u001b[0m\n\u001b[0;32m      1\u001b[0m transform \u001b[38;5;241m=\u001b[39m transforms\u001b[38;5;241m.\u001b[39mCompose([\n\u001b[0;32m      2\u001b[0m     transforms\u001b[38;5;241m.\u001b[39mToTensor(),  \u001b[38;5;66;03m# Convert the image to a tensor with shape [C, H, W]\u001b[39;00m\n\u001b[0;32m      3\u001b[0m     transforms\u001b[38;5;241m.\u001b[39mNormalize((\u001b[38;5;241m0.5\u001b[39m,), (\u001b[38;5;241m0.5\u001b[39m,)),  \u001b[38;5;66;03m# Normalize to [-1, 1]\u001b[39;00m\n\u001b[0;32m      4\u001b[0m     transforms\u001b[38;5;241m.\u001b[39mLambda(\u001b[38;5;28;01mlambda\u001b[39;00m x: x\u001b[38;5;241m.\u001b[39mview(\u001b[38;5;241m28\u001b[39m\u001b[38;5;241m*\u001b[39m\u001b[38;5;241m28\u001b[39m)) \u001b[38;5;66;03m# Flatten the tensor to shape [-1,HW]\u001b[39;00m\n\u001b[0;32m      5\u001b[0m ])\n\u001b[0;32m      7\u001b[0m \u001b[38;5;66;03m# Load the MNIST dataset\u001b[39;00m\n\u001b[1;32m----> 8\u001b[0m train_dataset \u001b[38;5;241m=\u001b[39m \u001b[43mdatasets\u001b[49m\u001b[38;5;241;43m.\u001b[39;49m\u001b[43mMNIST\u001b[49m\u001b[43m(\u001b[49m\u001b[43mroot\u001b[49m\u001b[38;5;241;43m=\u001b[39;49m\u001b[38;5;124;43m'\u001b[39;49m\u001b[38;5;124;43m./data\u001b[39;49m\u001b[38;5;124;43m'\u001b[39;49m\u001b[43m,\u001b[49m\u001b[43m \u001b[49m\u001b[43mtrain\u001b[49m\u001b[38;5;241;43m=\u001b[39;49m\u001b[38;5;28;43;01mTrue\u001b[39;49;00m\u001b[43m,\u001b[49m\u001b[43m \u001b[49m\u001b[43mdownload\u001b[49m\u001b[38;5;241;43m=\u001b[39;49m\u001b[38;5;28;43;01mTrue\u001b[39;49;00m\u001b[43m,\u001b[49m\u001b[43m \u001b[49m\u001b[43mtransform\u001b[49m\u001b[38;5;241;43m=\u001b[39;49m\u001b[43mtransform\u001b[49m\u001b[43m)\u001b[49m\n\u001b[0;32m      9\u001b[0m test_dataset \u001b[38;5;241m=\u001b[39m datasets\u001b[38;5;241m.\u001b[39mMNIST(root\u001b[38;5;241m=\u001b[39m\u001b[38;5;124m'\u001b[39m\u001b[38;5;124m./data\u001b[39m\u001b[38;5;124m'\u001b[39m, train\u001b[38;5;241m=\u001b[39m\u001b[38;5;28;01mFalse\u001b[39;00m, download\u001b[38;5;241m=\u001b[39m\u001b[38;5;28;01mTrue\u001b[39;00m, transform\u001b[38;5;241m=\u001b[39mtransform)\n\u001b[0;32m     11\u001b[0m train_data, train_labels \u001b[38;5;241m=\u001b[39m train_dataset\u001b[38;5;241m.\u001b[39mdata, train_dataset\u001b[38;5;241m.\u001b[39mtargets\n",
      "File \u001b[1;32mc:\\Users\\shh1xi\\.conda\\envs\\dlenv\\lib\\site-packages\\torchvision\\datasets\\mnist.py:100\u001b[0m, in \u001b[0;36mMNIST.__init__\u001b[1;34m(self, root, train, transform, target_transform, download)\u001b[0m\n\u001b[0;32m     97\u001b[0m     \u001b[38;5;28;01mreturn\u001b[39;00m\n\u001b[0;32m     99\u001b[0m \u001b[38;5;28;01mif\u001b[39;00m download:\n\u001b[1;32m--> 100\u001b[0m     \u001b[38;5;28;43mself\u001b[39;49m\u001b[38;5;241;43m.\u001b[39;49m\u001b[43mdownload\u001b[49m\u001b[43m(\u001b[49m\u001b[43m)\u001b[49m\n\u001b[0;32m    102\u001b[0m \u001b[38;5;28;01mif\u001b[39;00m \u001b[38;5;129;01mnot\u001b[39;00m \u001b[38;5;28mself\u001b[39m\u001b[38;5;241m.\u001b[39m_check_exists():\n\u001b[0;32m    103\u001b[0m     \u001b[38;5;28;01mraise\u001b[39;00m \u001b[38;5;167;01mRuntimeError\u001b[39;00m(\u001b[38;5;124m\"\u001b[39m\u001b[38;5;124mDataset not found. You can use download=True to download it\u001b[39m\u001b[38;5;124m\"\u001b[39m)\n",
      "File \u001b[1;32mc:\\Users\\shh1xi\\.conda\\envs\\dlenv\\lib\\site-packages\\torchvision\\datasets\\mnist.py:196\u001b[0m, in \u001b[0;36mMNIST.download\u001b[1;34m(self)\u001b[0m\n\u001b[0;32m    194\u001b[0m     \u001b[38;5;28;01mbreak\u001b[39;00m\n\u001b[0;32m    195\u001b[0m \u001b[38;5;28;01melse\u001b[39;00m:\n\u001b[1;32m--> 196\u001b[0m     \u001b[38;5;28;01mraise\u001b[39;00m \u001b[38;5;167;01mRuntimeError\u001b[39;00m(\u001b[38;5;124mf\u001b[39m\u001b[38;5;124m\"\u001b[39m\u001b[38;5;124mError downloading \u001b[39m\u001b[38;5;132;01m{\u001b[39;00mfilename\u001b[38;5;132;01m}\u001b[39;00m\u001b[38;5;124m\"\u001b[39m)\n",
      "\u001b[1;31mRuntimeError\u001b[0m: Error downloading train-images-idx3-ubyte.gz"
     ]
    }
   ],
   "source": [
    "transform = transforms.Compose([\n",
    "    transforms.ToTensor(),  # Convert the image to a tensor with shape [C, H, W]\n",
    "    transforms.Normalize((0.5,), (0.5,)),  # Normalize to [-1, 1]\n",
    "    transforms.Lambda(lambda x: x.view(28*28)) # Flatten the tensor to shape [-1,HW]\n",
    "])\n",
    "\n",
    "# Load the MNIST dataset\n",
    "train_dataset = datasets.MNIST(root='./data', train=True, download=True, transform=transform)\n",
    "test_dataset = datasets.MNIST(root='./data', train=False, download=True, transform=transform)\n",
    "\n",
    "train_data, train_labels = train_dataset.data, train_dataset.targets\n",
    "test_data, test_labels = test_dataset.data, test_dataset.targets\n",
    "print(train_data.shape, train_labels.shape)\n",
    "print(test_data.shape, test_labels.shape)"
   ]
  },
  {
   "cell_type": "markdown",
   "metadata": {
    "id": "1cqSZ-AbFRU_"
   },
   "source": [
    "Each data point has dimension `[28,28]`. We need to flatten it to a vector to input to our FFN."
   ]
  },
  {
   "cell_type": "code",
   "execution_count": 39,
   "metadata": {
    "id": "zFnh1HWOEo2I"
   },
   "outputs": [
    {
     "name": "stdout",
     "output_type": "stream",
     "text": [
      "torch.Size([60000, 784]) torch.Size([60000])\n",
      "torch.Size([10000, 784]) torch.Size([10000])\n"
     ]
    }
   ],
   "source": [
    "train_dataset.data = train_data.data.view(-1, 28*28)\n",
    "test_dataset.data = test_data.data.view(-1, 28*28)\n",
    "\n",
    "train_data, train_labels = train_dataset.data, train_dataset.targets\n",
    "test_data, test_labels = test_dataset.data, test_dataset.targets\n",
    "print(train_data.shape, train_labels.shape)\n",
    "print(test_data.shape, test_labels.shape)"
   ]
  },
  {
   "cell_type": "code",
   "execution_count": 40,
   "metadata": {
    "id": "u7ovCTokFOFz"
   },
   "outputs": [],
   "source": [
    "train_loader = DataLoader(dataset=train_dataset, batch_size=64, shuffle=True)\n",
    "test_loader = DataLoader(dataset=test_dataset, batch_size=64, shuffle=False)"
   ]
  },
  {
   "cell_type": "markdown",
   "metadata": {
    "id": "0yfw4I5mdrWu"
   },
   "source": [
    "**Develop the feed-forward neural networks**\n",
    "\n",
    "**(a)** You need to develop the class `MyLinear` with the following skeleton\n",
    "\n",
    "<div style=\"text-align: right\"><span style=\"color:red\">[3 points]</span></div>"
   ]
  },
  {
   "cell_type": "code",
   "execution_count": 50,
   "metadata": {
    "id": "lmDZATc8387F"
   },
   "outputs": [],
   "source": [
    "class MyLinear(torch.nn.Module):\n",
    "  def __init__(self, input_size, output_size):\n",
    "    \"\"\"\n",
    "    input_size: the size of the input\n",
    "    output_size: the size of the output\n",
    "    \"\"\"\n",
    "    super().__init__()\n",
    "    #Your code here\n",
    "    self.Netural = nn.Sequential(\n",
    "                                #nn.Flatten(),\n",
    "                                nn.Linear(in_features=input_size,out_features=output_size))\n",
    "  #forward propagation\n",
    "  def forward(self, x): #x is a mini-batch\n",
    "    #Your code here\n",
    "    return self.Netural(x)"
   ]
  },
  {
   "cell_type": "markdown",
   "metadata": {
    "id": "Db-lSIoEndgV"
   },
   "source": [
    "**(b)** You need to develop the class `MyFFN` with the following skeleton\n",
    "\n",
    "<div style=\"text-align: right\"><span style=\"color:red\">[7 points]</span></div>"
   ]
  },
  {
   "cell_type": "code",
   "execution_count": 62,
   "metadata": {
    "id": "oiSu7f2E6Zqt"
   },
   "outputs": [],
   "source": [
    "class MyFFN(torch.nn.Module):\n",
    "  def __init__(self, input_size, num_classes, hidden_sizes, act = torch.nn.ReLU()):\n",
    "    \"\"\"\n",
    "    input_size: the size of the input\n",
    "    num_classes: the number of classes\n",
    "    act is the activation function\n",
    "    hidden_sizes is the list of hidden sizes\n",
    "    for example input_size = 3, hidden_sizes = [5, 7], num_classes = 4, and act = torch.nn.ReLU()\n",
    "    means that we are building up a FFN with the confirguration\n",
    "    (3 (Input) -> 5 (ReLU) -> 7 (ReLU) -> 4 (Output))\n",
    "    \"\"\"\n",
    "    super(MyFFN,self).__init__()\n",
    "    self.input_size = input_size\n",
    "    self.num_classes = num_classes\n",
    "    self.act = act\n",
    "    self.hidden_sizes = hidden_sizes\n",
    "    self.num_layers = len(hidden_sizes) + 1\n",
    "    \n",
    "    # strange\n",
    "    #self.create_FFN()\n",
    "\n",
    "  def create_FFN(self):\n",
    "    \"\"\"\n",
    "    This function creates the feed-forward neural network\n",
    "    We stack many MyLinear layers\n",
    "    \"\"\"\n",
    "    hidden_sizes = [self.input_size] + self.hidden_sizes + [self.num_classes]\n",
    "    self.layers = []\n",
    "    #Your code here\n",
    "    for i in range(self.num_layers):\n",
    "        self.layers.append(MyLinear(hidden_sizes[i],hidden_sizes[i+1]))\n",
    "        \n",
    "        if i < self.num_layers -1:\n",
    "            self.layers.append(self.act())\n",
    "            \n",
    "    self.layers = nn.Sequential(*self.layers)\n",
    "\n",
    "  def forward(self,x):\n",
    "    \"\"\"\n",
    "    This implements the forward propagation of the batch x\n",
    "    This needs to return the prediction probabilities of x\n",
    "    \"\"\"\n",
    "    #Your code here\n",
    "    return self.layers(x)\n",
    "\n",
    "  def compute_loss(self, x, y):\n",
    "    \"\"\"\n",
    "    This function computes the cross-entropy loss\n",
    "    \"\"\"\n",
    "    #Your code here\n",
    "    loss_fn = nn.CrossEntropyLoss()\n",
    "    logits = self.forward(x)\n",
    "    loss = loss_fn(logits,y)\n",
    "    return loss\n",
    "    \n",
    "  def update_SGD(self, x, y, learning_rate = 0.01):\n",
    "    \"\"\"\n",
    "    This function updates the model parameters using SGD using the batch (x,y)\n",
    "    \"\"\"\n",
    "    #Your code here\n",
    "    optimizer = torch.optim.SGD(self.parameters(),lr = learning_rate)\n",
    "    optimizer.zero_grad()\n",
    "    loss = self.compute_loss(x,y)\n",
    "    loss.backward()\n",
    "    optimizer.step()\n",
    "    return loss\n",
    "\n",
    "  def update_SGDwithMomentum(self, x, y, learning_rate = 0.01, momentum = 0.9):\n",
    "    \"\"\"\n",
    "    This function updates the model parameters using SGD with momentum using the batch (x,y)\n",
    "    \"\"\"\n",
    "    #Your code here\n",
    "    optimizer = torch.optim.SGD(self.parameters(),lr = learning_rate,momentum=momentum)\n",
    "    optimizer.zero_grad()\n",
    "    loss = self.compute_loss(x,y)\n",
    "    loss.backward()\n",
    "    optimizer.step()\n",
    "    return loss\n",
    "\n",
    "  def update_AdaGrad(self, x, y, learning_rate = 0.01):\n",
    "    \"\"\"\n",
    "    This function updates the model parameters using AdaGrad using the batch (x,y)\n",
    "    \"\"\"\n",
    "    #Your code here\n",
    "    optimizer = torch.optim.Adagrad(self.parameters(),lr =learning_rate)\n",
    "    optimizer.zero_grad()\n",
    "    loss = self.compute_loss(x,y)\n",
    "    loss.backward()\n",
    "    optimizer.step()\n",
    "    return loss"
   ]
  },
  {
   "cell_type": "code",
   "execution_count": 63,
   "metadata": {
    "id": "Gj66U7OXGlKT"
   },
   "outputs": [
    {
     "name": "stdout",
     "output_type": "stream",
     "text": [
      "MyFFN(\n",
      "  (layers): Sequential(\n",
      "    (0): MyLinear(\n",
      "      (Netural): Sequential(\n",
      "        (0): Linear(in_features=784, out_features=100, bias=True)\n",
      "      )\n",
      "    )\n",
      "    (1): ReLU()\n",
      "    (2): MyLinear(\n",
      "      (Netural): Sequential(\n",
      "        (0): Linear(in_features=100, out_features=100, bias=True)\n",
      "      )\n",
      "    )\n",
      "    (3): ReLU()\n",
      "    (4): MyLinear(\n",
      "      (Netural): Sequential(\n",
      "        (0): Linear(in_features=100, out_features=26, bias=True)\n",
      "      )\n",
      "    )\n",
      "  )\n",
      ")\n"
     ]
    }
   ],
   "source": [
    "myFFN = MyFFN(input_size = 28*28, num_classes = 26, hidden_sizes = [100, 100], act = torch.nn.ReLU)\n",
    "myFFN.create_FFN()\n",
    "print(myFFN)"
   ]
  },
  {
   "cell_type": "markdown",
   "metadata": {
    "id": "A2cacc5pNTmG"
   },
   "source": [
    "**(c)** Write the code to evaluate the accuracy of the current `myFFN` model on a data loader (e.g., train_loader or test_loader).\n",
    "\n",
    "<div style=\"text-align: right\"><span style=\"color:red\">[2.5 points]</span></div>"
   ]
  },
  {
   "cell_type": "code",
   "execution_count": 71,
   "metadata": {
    "id": "LpAD3mVROrys"
   },
   "outputs": [],
   "source": [
    "def compute_acc(model, data_loader):\n",
    "  \"\"\"\n",
    "  This function computes the accuracy of the model on a data loader\n",
    "  \"\"\"\n",
    "  #Your code here\n",
    "  model.eval()\n",
    "  correct = 0\n",
    "  total = 0\n",
    "  with torch.no_grad():\n",
    "    for inputs,labels in data_loader:\n",
    "        outputs = model(inputs)\n",
    "        _, predicted = torch.max(outputs, 1)  # 获取预测结果\n",
    "        total += labels.size(0)  # 更新总样本数\n",
    "        correct += (predicted == labels).sum().item()  # 更新正确预测的数量\n",
    "  \n",
    "  accuracy = correct / total if total > 0 else 0  # 计算准确率\n",
    "  return accuracy\n"
   ]
  },
  {
   "cell_type": "markdown",
   "metadata": {
    "id": "-mt2ZxC25aCY"
   },
   "source": [
    "**(c)** Write the code to evaluate the loss of the current `myFFN` model on a data loader (e.g., train_loader or test_loader).\n",
    "\n",
    "<div style=\"text-align: right\"><span style=\"color:red\">[2.5 points]</span></div>"
   ]
  },
  {
   "cell_type": "code",
   "execution_count": 82,
   "metadata": {
    "id": "1jxyDKAS1UiB"
   },
   "outputs": [],
   "source": [
    "def compute_loss(model, data_loader):\n",
    "  \"\"\"\n",
    "  This function computes the loss of the model on a data loader\n",
    "  \"\"\"\n",
    "  #Your code here\n",
    "  loss_fn = torch.nn.CrossEntropyLoss()\n",
    "  model.eval()\n",
    "  total_loss = 0.0  \n",
    "  total_samples = 0  \n",
    "  with torch.no_grad():\n",
    "      for inputs, labels in data_loader:\n",
    "          # Forward pass\n",
    "          outputs = model(inputs)\n",
    "          \n",
    "          # Compute the loss\n",
    "          loss = loss_fn(outputs, labels)\n",
    "          \n",
    "          # Accumulate the loss\n",
    "          total_loss += loss.item() * inputs.size(0)  # Multiply by batch size to get total loss\n",
    "          total_samples += inputs.size(0)  # Count total samples\n",
    "          \n",
    "  # Calculate the average loss over all samples\n",
    "  average_loss = total_loss / total_samples if total_samples > 0 else 0\n",
    "  return average_loss"
   ]
  },
  {
   "cell_type": "markdown",
   "metadata": {
    "id": "MbLYNjco42rS"
   },
   "source": [
    "Train on the `MNIST` data with 50 epochs using `updateSGD`."
   ]
  },
  {
   "cell_type": "code",
   "execution_count": 83,
   "metadata": {
    "id": "VRaGwlHpFafy"
   },
   "outputs": [
    {
     "name": "stdout",
     "output_type": "stream",
     "text": [
      "Epoch 1/50, Train Loss: 0.2324, Train Acc: 93.43%, Test Loss: 0.2320, Test Acc: 93.46%\n",
      "Epoch 2/50, Train Loss: 0.2423, Train Acc: 92.70%, Test Loss: 0.2430, Test Acc: 92.38%\n",
      "Epoch 3/50, Train Loss: 0.2089, Train Acc: 93.82%, Test Loss: 0.2123, Test Acc: 93.75%\n",
      "Epoch 4/50, Train Loss: 0.1989, Train Acc: 93.93%, Test Loss: 0.2002, Test Acc: 93.82%\n",
      "Epoch 5/50, Train Loss: 0.1794, Train Acc: 94.68%, Test Loss: 0.1850, Test Acc: 94.39%\n",
      "Epoch 6/50, Train Loss: 0.1611, Train Acc: 95.38%, Test Loss: 0.1689, Test Acc: 95.01%\n",
      "Epoch 7/50, Train Loss: 0.1466, Train Acc: 95.75%, Test Loss: 0.1548, Test Acc: 95.49%\n",
      "Epoch 8/50, Train Loss: 0.1387, Train Acc: 96.00%, Test Loss: 0.1454, Test Acc: 95.61%\n",
      "Epoch 9/50, Train Loss: 0.1342, Train Acc: 96.09%, Test Loss: 0.1462, Test Acc: 95.71%\n",
      "Epoch 10/50, Train Loss: 0.1374, Train Acc: 95.96%, Test Loss: 0.1503, Test Acc: 95.32%\n",
      "Epoch 11/50, Train Loss: 0.1171, Train Acc: 96.68%, Test Loss: 0.1306, Test Acc: 96.10%\n",
      "Epoch 12/50, Train Loss: 0.1108, Train Acc: 96.83%, Test Loss: 0.1270, Test Acc: 96.23%\n",
      "Epoch 13/50, Train Loss: 0.1119, Train Acc: 96.74%, Test Loss: 0.1267, Test Acc: 96.14%\n",
      "Epoch 14/50, Train Loss: 0.1052, Train Acc: 96.95%, Test Loss: 0.1224, Test Acc: 96.17%\n",
      "Epoch 15/50, Train Loss: 0.0957, Train Acc: 97.27%, Test Loss: 0.1160, Test Acc: 96.47%\n",
      "Epoch 16/50, Train Loss: 0.0943, Train Acc: 97.24%, Test Loss: 0.1156, Test Acc: 96.48%\n",
      "Epoch 17/50, Train Loss: 0.0911, Train Acc: 97.39%, Test Loss: 0.1125, Test Acc: 96.48%\n",
      "Epoch 18/50, Train Loss: 0.0847, Train Acc: 97.61%, Test Loss: 0.1076, Test Acc: 96.74%\n",
      "Epoch 19/50, Train Loss: 0.1010, Train Acc: 96.85%, Test Loss: 0.1264, Test Acc: 96.04%\n",
      "Epoch 20/50, Train Loss: 0.0824, Train Acc: 97.55%, Test Loss: 0.1068, Test Acc: 96.84%\n",
      "Epoch 21/50, Train Loss: 0.0777, Train Acc: 97.81%, Test Loss: 0.1041, Test Acc: 96.83%\n",
      "Epoch 22/50, Train Loss: 0.0723, Train Acc: 97.94%, Test Loss: 0.0989, Test Acc: 96.96%\n",
      "Epoch 23/50, Train Loss: 0.0810, Train Acc: 97.55%, Test Loss: 0.1103, Test Acc: 96.61%\n",
      "Epoch 24/50, Train Loss: 0.0696, Train Acc: 98.02%, Test Loss: 0.1012, Test Acc: 96.94%\n",
      "Epoch 25/50, Train Loss: 0.0652, Train Acc: 98.10%, Test Loss: 0.0968, Test Acc: 97.16%\n",
      "Epoch 26/50, Train Loss: 0.0617, Train Acc: 98.28%, Test Loss: 0.0939, Test Acc: 97.09%\n",
      "Epoch 27/50, Train Loss: 0.0651, Train Acc: 98.15%, Test Loss: 0.0973, Test Acc: 97.04%\n",
      "Epoch 28/50, Train Loss: 0.0580, Train Acc: 98.39%, Test Loss: 0.0916, Test Acc: 97.25%\n",
      "Epoch 29/50, Train Loss: 0.0584, Train Acc: 98.30%, Test Loss: 0.0920, Test Acc: 97.14%\n",
      "Epoch 30/50, Train Loss: 0.0605, Train Acc: 98.21%, Test Loss: 0.0983, Test Acc: 96.96%\n",
      "Epoch 31/50, Train Loss: 0.0525, Train Acc: 98.51%, Test Loss: 0.0886, Test Acc: 97.33%\n",
      "Epoch 32/50, Train Loss: 0.0527, Train Acc: 98.52%, Test Loss: 0.0904, Test Acc: 97.23%\n",
      "Epoch 33/50, Train Loss: 0.0555, Train Acc: 98.34%, Test Loss: 0.0919, Test Acc: 97.23%\n",
      "Epoch 34/50, Train Loss: 0.0497, Train Acc: 98.62%, Test Loss: 0.0866, Test Acc: 97.32%\n",
      "Epoch 35/50, Train Loss: 0.0462, Train Acc: 98.74%, Test Loss: 0.0845, Test Acc: 97.49%\n",
      "Epoch 36/50, Train Loss: 0.0464, Train Acc: 98.67%, Test Loss: 0.0884, Test Acc: 97.26%\n",
      "Epoch 37/50, Train Loss: 0.0590, Train Acc: 98.09%, Test Loss: 0.0990, Test Acc: 96.99%\n",
      "Epoch 38/50, Train Loss: 0.0429, Train Acc: 98.82%, Test Loss: 0.0852, Test Acc: 97.36%\n",
      "Epoch 39/50, Train Loss: 0.0402, Train Acc: 98.93%, Test Loss: 0.0816, Test Acc: 97.62%\n",
      "Epoch 40/50, Train Loss: 0.0387, Train Acc: 98.93%, Test Loss: 0.0823, Test Acc: 97.54%\n",
      "Epoch 41/50, Train Loss: 0.0412, Train Acc: 98.90%, Test Loss: 0.0877, Test Acc: 97.42%\n",
      "Epoch 42/50, Train Loss: 0.0378, Train Acc: 99.00%, Test Loss: 0.0853, Test Acc: 97.50%\n",
      "Epoch 43/50, Train Loss: 0.0349, Train Acc: 99.06%, Test Loss: 0.0803, Test Acc: 97.50%\n",
      "Epoch 44/50, Train Loss: 0.0385, Train Acc: 98.89%, Test Loss: 0.0879, Test Acc: 97.49%\n",
      "Epoch 45/50, Train Loss: 0.0330, Train Acc: 99.14%, Test Loss: 0.0813, Test Acc: 97.66%\n",
      "Epoch 46/50, Train Loss: 0.0412, Train Acc: 98.70%, Test Loss: 0.0927, Test Acc: 97.26%\n",
      "Epoch 47/50, Train Loss: 0.0315, Train Acc: 99.22%, Test Loss: 0.0802, Test Acc: 97.66%\n",
      "Epoch 48/50, Train Loss: 0.0301, Train Acc: 99.25%, Test Loss: 0.0798, Test Acc: 97.49%\n",
      "Epoch 49/50, Train Loss: 0.0295, Train Acc: 99.29%, Test Loss: 0.0812, Test Acc: 97.64%\n",
      "Epoch 50/50, Train Loss: 0.0301, Train Acc: 99.26%, Test Loss: 0.0815, Test Acc: 97.55%\n"
     ]
    }
   ],
   "source": [
    "num_epochs = 50\n",
    "for epoch in range(num_epochs):\n",
    "    for i, (x, y) in enumerate(train_loader):\n",
    "      myFFN.update_SGD(x, y, learning_rate = 0.01)\n",
    "    train_acc = compute_acc(myFFN, train_loader)\n",
    "    train_loss = compute_loss(myFFN, train_loader)\n",
    "    test_acc = compute_acc(myFFN, test_loader)\n",
    "    test_loss = compute_loss(myFFN, test_loader)\n",
    "    print(f\"Epoch {epoch+1}/{num_epochs}, Train Loss: {train_loss:.4f}, Train Acc: {train_acc*100:.2f}%, Test Loss: {test_loss:.4f}, Test Acc: {test_acc*100:.2f}%\")"
   ]
  },
  {
   "cell_type": "markdown",
   "metadata": {
    "id": "nVWADJjNdYkV"
   },
   "source": [
    "**(d)** Implement the function `updateSGDMomentum` in the class and train the model with this optimizer in `50` epochs. You can update the corresponding function in the `MyFNN` class.\n",
    "\n",
    "<div style=\"text-align: right\"><span style=\"color:red\">[2.5 points]</span></div>"
   ]
  },
  {
   "cell_type": "code",
   "execution_count": 84,
   "metadata": {
    "id": "pk0vpIZXGJNJ"
   },
   "outputs": [
    {
     "name": "stdout",
     "output_type": "stream",
     "text": [
      "Epoch 1/50, Train Loss: 0.0304, Train Acc: 99.16%, Test Loss: 0.0815, Test Acc: 97.59%\n",
      "Epoch 2/50, Train Loss: 0.0279, Train Acc: 99.33%, Test Loss: 0.0824, Test Acc: 97.60%\n",
      "Epoch 3/50, Train Loss: 0.0259, Train Acc: 99.39%, Test Loss: 0.0801, Test Acc: 97.63%\n",
      "Epoch 4/50, Train Loss: 0.0265, Train Acc: 99.32%, Test Loss: 0.0818, Test Acc: 97.57%\n",
      "Epoch 5/50, Train Loss: 0.0248, Train Acc: 99.41%, Test Loss: 0.0798, Test Acc: 97.64%\n",
      "Epoch 6/50, Train Loss: 0.0249, Train Acc: 99.36%, Test Loss: 0.0810, Test Acc: 97.58%\n",
      "Epoch 7/50, Train Loss: 0.0289, Train Acc: 99.15%, Test Loss: 0.0872, Test Acc: 97.42%\n",
      "Epoch 8/50, Train Loss: 0.0235, Train Acc: 99.41%, Test Loss: 0.0812, Test Acc: 97.62%\n",
      "Epoch 9/50, Train Loss: 0.0236, Train Acc: 99.44%, Test Loss: 0.0831, Test Acc: 97.48%\n",
      "Epoch 10/50, Train Loss: 0.0206, Train Acc: 99.56%, Test Loss: 0.0788, Test Acc: 97.74%\n",
      "Epoch 11/50, Train Loss: 0.0215, Train Acc: 99.50%, Test Loss: 0.0819, Test Acc: 97.62%\n",
      "Epoch 12/50, Train Loss: 0.0199, Train Acc: 99.56%, Test Loss: 0.0793, Test Acc: 97.73%\n",
      "Epoch 13/50, Train Loss: 0.0226, Train Acc: 99.40%, Test Loss: 0.0844, Test Acc: 97.54%\n",
      "Epoch 14/50, Train Loss: 0.0186, Train Acc: 99.63%, Test Loss: 0.0785, Test Acc: 97.75%\n",
      "Epoch 15/50, Train Loss: 0.0170, Train Acc: 99.70%, Test Loss: 0.0795, Test Acc: 97.73%\n",
      "Epoch 16/50, Train Loss: 0.0270, Train Acc: 99.21%, Test Loss: 0.0924, Test Acc: 97.42%\n",
      "Epoch 17/50, Train Loss: 0.0189, Train Acc: 99.58%, Test Loss: 0.0837, Test Acc: 97.70%\n",
      "Epoch 18/50, Train Loss: 0.0177, Train Acc: 99.65%, Test Loss: 0.0821, Test Acc: 97.63%\n",
      "Epoch 19/50, Train Loss: 0.0152, Train Acc: 99.75%, Test Loss: 0.0780, Test Acc: 97.78%\n",
      "Epoch 20/50, Train Loss: 0.0150, Train Acc: 99.74%, Test Loss: 0.0786, Test Acc: 97.75%\n",
      "Epoch 21/50, Train Loss: 0.0157, Train Acc: 99.71%, Test Loss: 0.0814, Test Acc: 97.72%\n",
      "Epoch 22/50, Train Loss: 0.0142, Train Acc: 99.76%, Test Loss: 0.0800, Test Acc: 97.72%\n",
      "Epoch 23/50, Train Loss: 0.0134, Train Acc: 99.77%, Test Loss: 0.0793, Test Acc: 97.76%\n",
      "Epoch 24/50, Train Loss: 0.0228, Train Acc: 99.32%, Test Loss: 0.0889, Test Acc: 97.47%\n",
      "Epoch 25/50, Train Loss: 0.0132, Train Acc: 99.79%, Test Loss: 0.0829, Test Acc: 97.71%\n",
      "Epoch 26/50, Train Loss: 0.0164, Train Acc: 99.66%, Test Loss: 0.0870, Test Acc: 97.55%\n",
      "Epoch 27/50, Train Loss: 0.0132, Train Acc: 99.79%, Test Loss: 0.0828, Test Acc: 97.66%\n",
      "Epoch 28/50, Train Loss: 0.0116, Train Acc: 99.85%, Test Loss: 0.0801, Test Acc: 97.76%\n",
      "Epoch 29/50, Train Loss: 0.0113, Train Acc: 99.84%, Test Loss: 0.0798, Test Acc: 97.78%\n",
      "Epoch 30/50, Train Loss: 0.0120, Train Acc: 99.83%, Test Loss: 0.0821, Test Acc: 97.82%\n",
      "Epoch 31/50, Train Loss: 0.0146, Train Acc: 99.70%, Test Loss: 0.0876, Test Acc: 97.65%\n",
      "Epoch 32/50, Train Loss: 0.0104, Train Acc: 99.89%, Test Loss: 0.0822, Test Acc: 97.72%\n",
      "Epoch 33/50, Train Loss: 0.0113, Train Acc: 99.84%, Test Loss: 0.0836, Test Acc: 97.77%\n",
      "Epoch 34/50, Train Loss: 0.0101, Train Acc: 99.88%, Test Loss: 0.0812, Test Acc: 97.70%\n",
      "Epoch 35/50, Train Loss: 0.0102, Train Acc: 99.89%, Test Loss: 0.0834, Test Acc: 97.75%\n",
      "Epoch 36/50, Train Loss: 0.0092, Train Acc: 99.91%, Test Loss: 0.0832, Test Acc: 97.69%\n",
      "Epoch 37/50, Train Loss: 0.0136, Train Acc: 99.68%, Test Loss: 0.0900, Test Acc: 97.66%\n",
      "Epoch 38/50, Train Loss: 0.0097, Train Acc: 99.87%, Test Loss: 0.0838, Test Acc: 97.86%\n",
      "Epoch 39/50, Train Loss: 0.0087, Train Acc: 99.92%, Test Loss: 0.0826, Test Acc: 97.76%\n",
      "Epoch 40/50, Train Loss: 0.0083, Train Acc: 99.93%, Test Loss: 0.0819, Test Acc: 97.75%\n",
      "Epoch 41/50, Train Loss: 0.0089, Train Acc: 99.91%, Test Loss: 0.0855, Test Acc: 97.72%\n",
      "Epoch 42/50, Train Loss: 0.0083, Train Acc: 99.91%, Test Loss: 0.0854, Test Acc: 97.67%\n",
      "Epoch 43/50, Train Loss: 0.0080, Train Acc: 99.93%, Test Loss: 0.0845, Test Acc: 97.84%\n",
      "Epoch 44/50, Train Loss: 0.0075, Train Acc: 99.93%, Test Loss: 0.0844, Test Acc: 97.72%\n",
      "Epoch 45/50, Train Loss: 0.0104, Train Acc: 99.83%, Test Loss: 0.0908, Test Acc: 97.58%\n",
      "Epoch 46/50, Train Loss: 0.0070, Train Acc: 99.95%, Test Loss: 0.0843, Test Acc: 97.80%\n",
      "Epoch 47/50, Train Loss: 0.0077, Train Acc: 99.94%, Test Loss: 0.0870, Test Acc: 97.63%\n",
      "Epoch 48/50, Train Loss: 0.0065, Train Acc: 99.95%, Test Loss: 0.0849, Test Acc: 97.81%\n",
      "Epoch 49/50, Train Loss: 0.0068, Train Acc: 99.94%, Test Loss: 0.0842, Test Acc: 97.76%\n",
      "Epoch 50/50, Train Loss: 0.0065, Train Acc: 99.95%, Test Loss: 0.0846, Test Acc: 97.81%\n"
     ]
    }
   ],
   "source": [
    "#Your code here\n",
    "num_epochs = 50\n",
    "for epoch in range(num_epochs):\n",
    "    for i, (x, y) in enumerate(train_loader):\n",
    "      myFFN.update_SGDwithMomentum(x, y, learning_rate = 0.01)\n",
    "    train_acc = compute_acc(myFFN, train_loader)\n",
    "    train_loss = compute_loss(myFFN, train_loader)\n",
    "    test_acc = compute_acc(myFFN, test_loader)\n",
    "    test_loss = compute_loss(myFFN, test_loader)\n",
    "    print(f\"Epoch {epoch+1}/{num_epochs}, Train Loss: {train_loss:.4f}, Train Acc: {train_acc*100:.2f}%, Test Loss: {test_loss:.4f}, Test Acc: {test_acc*100:.2f}%\")\n",
    "\n"
   ]
  },
  {
   "cell_type": "markdown",
   "metadata": {
    "id": "I5XS8u6kdzOX"
   },
   "source": [
    "**(e)** Implement the function `updateAdagrad` in the class and train the model with this optimizer in `50` epochs. You can update the corresponding function in the `MyFNN` class.\n",
    "\n",
    "<div style=\"text-align: right\"><span style=\"color:red\">[2.5 points]</span></div>"
   ]
  },
  {
   "cell_type": "code",
   "execution_count": 85,
   "metadata": {
    "id": "-hqq9QLfd4HF"
   },
   "outputs": [
    {
     "name": "stdout",
     "output_type": "stream",
     "text": [
      "Epoch 1/50, Train Loss: 4.8407, Train Acc: 87.34%, Test Loss: 4.6381, Test Acc: 88.12%\n",
      "Epoch 2/50, Train Loss: 4.3127, Train Acc: 89.37%, Test Loss: 4.4079, Test Acc: 89.97%\n",
      "Epoch 3/50, Train Loss: 3.6894, Train Acc: 91.81%, Test Loss: 3.8083, Test Acc: 91.79%\n",
      "Epoch 4/50, Train Loss: 4.7207, Train Acc: 91.36%, Test Loss: 4.8276, Test Acc: 91.73%\n",
      "Epoch 5/50, Train Loss: 3.4314, Train Acc: 93.15%, Test Loss: 3.5339, Test Acc: 93.10%\n",
      "Epoch 6/50, Train Loss: 4.0719, Train Acc: 93.61%, Test Loss: 4.1942, Test Acc: 93.51%\n",
      "Epoch 7/50, Train Loss: 3.3218, Train Acc: 93.85%, Test Loss: 3.9772, Test Acc: 93.59%\n",
      "Epoch 8/50, Train Loss: 5.7297, Train Acc: 92.60%, Test Loss: 6.1453, Test Acc: 92.35%\n",
      "Epoch 9/50, Train Loss: 9.8741, Train Acc: 88.56%, Test Loss: 10.6793, Test Acc: 88.61%\n",
      "Epoch 10/50, Train Loss: 4.0415, Train Acc: 93.18%, Test Loss: 4.7764, Test Acc: 92.83%\n",
      "Epoch 11/50, Train Loss: 6.2539, Train Acc: 93.77%, Test Loss: 7.1457, Test Acc: 93.37%\n",
      "Epoch 12/50, Train Loss: 6.3234, Train Acc: 93.70%, Test Loss: 7.3521, Test Acc: 93.30%\n",
      "Epoch 13/50, Train Loss: 4.8005, Train Acc: 94.96%, Test Loss: 6.1549, Test Acc: 93.79%\n",
      "Epoch 14/50, Train Loss: 4.3607, Train Acc: 94.58%, Test Loss: 6.0545, Test Acc: 93.80%\n",
      "Epoch 15/50, Train Loss: 4.3212, Train Acc: 95.84%, Test Loss: 5.6284, Test Acc: 95.36%\n",
      "Epoch 16/50, Train Loss: 6.7853, Train Acc: 94.12%, Test Loss: 8.3786, Test Acc: 93.42%\n",
      "Epoch 17/50, Train Loss: 15.8086, Train Acc: 89.51%, Test Loss: 17.3325, Test Acc: 89.00%\n",
      "Epoch 18/50, Train Loss: 4.9888, Train Acc: 94.82%, Test Loss: 6.8403, Test Acc: 94.16%\n",
      "Epoch 19/50, Train Loss: 6.4135, Train Acc: 94.84%, Test Loss: 7.5844, Test Acc: 94.24%\n",
      "Epoch 20/50, Train Loss: 6.4285, Train Acc: 95.13%, Test Loss: 9.0221, Test Acc: 94.44%\n",
      "Epoch 21/50, Train Loss: 5.1004, Train Acc: 96.00%, Test Loss: 7.8159, Test Acc: 95.28%\n",
      "Epoch 22/50, Train Loss: 6.7047, Train Acc: 95.80%, Test Loss: 10.3378, Test Acc: 94.82%\n",
      "Epoch 23/50, Train Loss: 8.9780, Train Acc: 93.65%, Test Loss: 12.1475, Test Acc: 93.04%\n",
      "Epoch 24/50, Train Loss: 6.1979, Train Acc: 95.05%, Test Loss: 8.2482, Test Acc: 94.08%\n",
      "Epoch 25/50, Train Loss: 5.9739, Train Acc: 95.91%, Test Loss: 8.2906, Test Acc: 95.09%\n",
      "Epoch 26/50, Train Loss: 5.5019, Train Acc: 95.96%, Test Loss: 8.5719, Test Acc: 95.10%\n",
      "Epoch 27/50, Train Loss: 5.8148, Train Acc: 95.08%, Test Loss: 8.1490, Test Acc: 94.30%\n",
      "Epoch 28/50, Train Loss: 5.8320, Train Acc: 95.93%, Test Loss: 9.9862, Test Acc: 94.79%\n",
      "Epoch 29/50, Train Loss: 5.9632, Train Acc: 96.37%, Test Loss: 9.3126, Test Acc: 95.73%\n",
      "Epoch 30/50, Train Loss: 5.4111, Train Acc: 96.86%, Test Loss: 8.1432, Test Acc: 95.93%\n",
      "Epoch 31/50, Train Loss: 6.3536, Train Acc: 95.74%, Test Loss: 9.8916, Test Acc: 94.60%\n",
      "Epoch 32/50, Train Loss: 4.6726, Train Acc: 96.80%, Test Loss: 7.1888, Test Acc: 95.81%\n",
      "Epoch 33/50, Train Loss: 4.0418, Train Acc: 97.02%, Test Loss: 7.5475, Test Acc: 95.96%\n",
      "Epoch 34/50, Train Loss: 6.3716, Train Acc: 95.80%, Test Loss: 10.6636, Test Acc: 94.59%\n",
      "Epoch 35/50, Train Loss: 4.6786, Train Acc: 97.00%, Test Loss: 8.4587, Test Acc: 95.87%\n",
      "Epoch 36/50, Train Loss: 7.7830, Train Acc: 95.38%, Test Loss: 11.9045, Test Acc: 94.69%\n",
      "Epoch 37/50, Train Loss: 7.5459, Train Acc: 95.55%, Test Loss: 11.6674, Test Acc: 94.70%\n",
      "Epoch 38/50, Train Loss: 4.4917, Train Acc: 96.75%, Test Loss: 8.7881, Test Acc: 95.68%\n",
      "Epoch 39/50, Train Loss: 8.2813, Train Acc: 95.97%, Test Loss: 12.8517, Test Acc: 94.84%\n",
      "Epoch 40/50, Train Loss: 5.3476, Train Acc: 97.04%, Test Loss: 10.3599, Test Acc: 95.79%\n",
      "Epoch 41/50, Train Loss: 4.6121, Train Acc: 96.75%, Test Loss: 8.9268, Test Acc: 95.45%\n",
      "Epoch 42/50, Train Loss: 7.0647, Train Acc: 96.16%, Test Loss: 12.2144, Test Acc: 95.12%\n",
      "Epoch 43/50, Train Loss: 6.8518, Train Acc: 95.97%, Test Loss: 11.9510, Test Acc: 94.75%\n",
      "Epoch 44/50, Train Loss: 8.1366, Train Acc: 95.81%, Test Loss: 13.7383, Test Acc: 94.82%\n",
      "Epoch 45/50, Train Loss: 5.0987, Train Acc: 97.30%, Test Loss: 10.6737, Test Acc: 96.10%\n",
      "Epoch 46/50, Train Loss: 6.2104, Train Acc: 97.06%, Test Loss: 11.5094, Test Acc: 95.87%\n",
      "Epoch 47/50, Train Loss: 9.0286, Train Acc: 95.27%, Test Loss: 15.3952, Test Acc: 94.24%\n",
      "Epoch 48/50, Train Loss: 5.2776, Train Acc: 97.22%, Test Loss: 11.8612, Test Acc: 95.55%\n",
      "Epoch 49/50, Train Loss: 6.6620, Train Acc: 97.10%, Test Loss: 14.8754, Test Acc: 95.79%\n",
      "Epoch 50/50, Train Loss: 7.1715, Train Acc: 96.74%, Test Loss: 14.0032, Test Acc: 95.71%\n"
     ]
    }
   ],
   "source": [
    "#Your code here\n",
    "num_epochs = 50\n",
    "for epoch in range(num_epochs):\n",
    "    for i, (x, y) in enumerate(train_loader):\n",
    "      myFFN.update_AdaGrad(x, y, learning_rate = 0.01)\n",
    "    train_acc = compute_acc(myFFN, train_loader)\n",
    "    train_loss = compute_loss(myFFN, train_loader)\n",
    "    test_acc = compute_acc(myFFN, test_loader)\n",
    "    test_loss = compute_loss(myFFN, test_loader)\n",
    "    print(f\"Epoch {epoch+1}/{num_epochs}, Train Loss: {train_loss:.4f}, Train Acc: {train_acc*100:.2f}%, Test Loss: {test_loss:.4f}, Test Acc: {test_acc*100:.2f}%\")\n",
    "\n",
    "\n"
   ]
  },
  {
   "cell_type": "markdown",
   "metadata": {
    "id": "ivgfgyr_eDgr"
   },
   "source": [
    "## <span style=\"color:#0b486b\">Part 2: Deep Neural Networks (DNN) </span>\n",
    "<div style=\"text-align: right\"><span style=\"color:red; font-weight:bold\">[Total marks for this part: 25 points]<span></div>\n",
    "\n",
    "The second part of this assignment is to demonstrate your basis knowledge in deep learning that you have acquired from the lectures and tutorials materials. Most of the contents in this assignment are drawn from **the tutorials covered from weeks 1 to 2**. Going through these materials before attempting this assignment is highly recommended."
   ]
  },
  {
   "cell_type": "markdown",
   "metadata": {
    "id": "jIUUFYGweODG"
   },
   "source": [
    "In the second part of this assignment, you are going to work with the FashionMNIST dataset for image recognition task. It has the exact same format as MNIST (70,000 grayscale images of 28 × 28 pixels each with 10 classes), but the images represent fashion items rather than handwritten digits, so each class is more diverse, and the problem is significantly more challenging than MNIST."
   ]
  },
  {
   "cell_type": "code",
   "execution_count": 7,
   "metadata": {
    "id": "7xIkwylWDRJQ"
   },
   "outputs": [
    {
     "data": {
      "text/plain": [
       "<torch._C.Generator at 0x1d12f021850>"
      ]
     },
     "execution_count": 7,
     "metadata": {},
     "output_type": "execute_result"
    }
   ],
   "source": [
    "import torch\n",
    "from torch.utils.data import DataLoader\n",
    "from torchvision import datasets, transforms\n",
    "import matplotlib.pyplot as plt\n",
    "import torch.nn as nn\n",
    "\n",
    "torch.manual_seed(1234)"
   ]
  },
  {
   "cell_type": "markdown",
   "metadata": {
    "id": "FfEhiEr2eYqc"
   },
   "source": [
    "**Load the Fashion MNIST using `torchvision`**"
   ]
  },
  {
   "cell_type": "code",
   "execution_count": 4,
   "metadata": {
    "colab": {
     "base_uri": "https://localhost:8080/"
    },
    "id": "y5FnvI8LeD6X",
    "outputId": "4019f4f3-2c0e-40bc-b7fd-2b4b7addedb8"
   },
   "outputs": [
    {
     "name": "stdout",
     "output_type": "stream",
     "text": [
      "Downloading http://fashion-mnist.s3-website.eu-central-1.amazonaws.com/train-images-idx3-ubyte.gz\n",
      "Failed to download (trying next):\n",
      "<urlopen error [Errno 11001] getaddrinfo failed>\n",
      "\n"
     ]
    },
    {
     "ename": "RuntimeError",
     "evalue": "Error downloading train-images-idx3-ubyte.gz",
     "output_type": "error",
     "traceback": [
      "\u001b[1;31m---------------------------------------------------------------------------\u001b[0m",
      "\u001b[1;31mRuntimeError\u001b[0m                              Traceback (most recent call last)",
      "Cell \u001b[1;32mIn[4], line 3\u001b[0m\n\u001b[0;32m      1\u001b[0m transform \u001b[38;5;241m=\u001b[39m transforms\u001b[38;5;241m.\u001b[39mCompose([transforms\u001b[38;5;241m.\u001b[39mToTensor(), transforms\u001b[38;5;241m.\u001b[39mNormalize((\u001b[38;5;241m0.5\u001b[39m,), (\u001b[38;5;241m0.5\u001b[39m,))])\n\u001b[1;32m----> 3\u001b[0m train_dataset_orgin \u001b[38;5;241m=\u001b[39m \u001b[43mdatasets\u001b[49m\u001b[38;5;241;43m.\u001b[39;49m\u001b[43mFashionMNIST\u001b[49m\u001b[43m(\u001b[49m\u001b[43mroot\u001b[49m\u001b[38;5;241;43m=\u001b[39;49m\u001b[38;5;124;43m\"\u001b[39;49m\u001b[38;5;124;43m./data\u001b[39;49m\u001b[38;5;124;43m\"\u001b[39;49m\u001b[43m,\u001b[49m\u001b[43m \u001b[49m\u001b[43mtrain\u001b[49m\u001b[38;5;241;43m=\u001b[39;49m\u001b[38;5;28;43;01mTrue\u001b[39;49;00m\u001b[43m,\u001b[49m\u001b[43m \u001b[49m\u001b[43mdownload\u001b[49m\u001b[38;5;241;43m=\u001b[39;49m\u001b[38;5;28;43;01mTrue\u001b[39;49;00m\u001b[43m,\u001b[49m\u001b[43m \u001b[49m\u001b[43mtransform\u001b[49m\u001b[38;5;241;43m=\u001b[39;49m\u001b[43mtransform\u001b[49m\u001b[43m)\u001b[49m\n\u001b[0;32m      4\u001b[0m test_dataset \u001b[38;5;241m=\u001b[39m datasets\u001b[38;5;241m.\u001b[39mFashionMNIST(root\u001b[38;5;241m=\u001b[39m\u001b[38;5;124m\"\u001b[39m\u001b[38;5;124m./data\u001b[39m\u001b[38;5;124m\"\u001b[39m, train\u001b[38;5;241m=\u001b[39m\u001b[38;5;28;01mFalse\u001b[39;00m, download\u001b[38;5;241m=\u001b[39m\u001b[38;5;28;01mTrue\u001b[39;00m, transform\u001b[38;5;241m=\u001b[39mtransform)\n\u001b[0;32m      6\u001b[0m \u001b[38;5;28mprint\u001b[39m(train_dataset_orgin\u001b[38;5;241m.\u001b[39mdata\u001b[38;5;241m.\u001b[39mshape, train_dataset_orgin\u001b[38;5;241m.\u001b[39mtargets\u001b[38;5;241m.\u001b[39mshape)\n",
      "File \u001b[1;32mc:\\Users\\shh1xi\\.conda\\envs\\dlenv\\lib\\site-packages\\torchvision\\datasets\\mnist.py:100\u001b[0m, in \u001b[0;36mMNIST.__init__\u001b[1;34m(self, root, train, transform, target_transform, download)\u001b[0m\n\u001b[0;32m     97\u001b[0m     \u001b[38;5;28;01mreturn\u001b[39;00m\n\u001b[0;32m     99\u001b[0m \u001b[38;5;28;01mif\u001b[39;00m download:\n\u001b[1;32m--> 100\u001b[0m     \u001b[38;5;28;43mself\u001b[39;49m\u001b[38;5;241;43m.\u001b[39;49m\u001b[43mdownload\u001b[49m\u001b[43m(\u001b[49m\u001b[43m)\u001b[49m\n\u001b[0;32m    102\u001b[0m \u001b[38;5;28;01mif\u001b[39;00m \u001b[38;5;129;01mnot\u001b[39;00m \u001b[38;5;28mself\u001b[39m\u001b[38;5;241m.\u001b[39m_check_exists():\n\u001b[0;32m    103\u001b[0m     \u001b[38;5;28;01mraise\u001b[39;00m \u001b[38;5;167;01mRuntimeError\u001b[39;00m(\u001b[38;5;124m\"\u001b[39m\u001b[38;5;124mDataset not found. You can use download=True to download it\u001b[39m\u001b[38;5;124m\"\u001b[39m)\n",
      "File \u001b[1;32mc:\\Users\\shh1xi\\.conda\\envs\\dlenv\\lib\\site-packages\\torchvision\\datasets\\mnist.py:196\u001b[0m, in \u001b[0;36mMNIST.download\u001b[1;34m(self)\u001b[0m\n\u001b[0;32m    194\u001b[0m     \u001b[38;5;28;01mbreak\u001b[39;00m\n\u001b[0;32m    195\u001b[0m \u001b[38;5;28;01melse\u001b[39;00m:\n\u001b[1;32m--> 196\u001b[0m     \u001b[38;5;28;01mraise\u001b[39;00m \u001b[38;5;167;01mRuntimeError\u001b[39;00m(\u001b[38;5;124mf\u001b[39m\u001b[38;5;124m\"\u001b[39m\u001b[38;5;124mError downloading \u001b[39m\u001b[38;5;132;01m{\u001b[39;00mfilename\u001b[38;5;132;01m}\u001b[39;00m\u001b[38;5;124m\"\u001b[39m)\n",
      "\u001b[1;31mRuntimeError\u001b[0m: Error downloading train-images-idx3-ubyte.gz"
     ]
    }
   ],
   "source": [
    "transform = transforms.Compose([transforms.ToTensor(), transforms.Normalize((0.5,), (0.5,))])\n",
    "\n",
    "train_dataset_orgin = datasets.FashionMNIST(root=\"./data\", train=True, download=True, transform=transform)\n",
    "test_dataset = datasets.FashionMNIST(root=\"./data\", train=False, download=True, transform=transform)\n",
    "\n",
    "print(train_dataset_orgin.data.shape, train_dataset_orgin.targets.shape)\n",
    "print(test_dataset.data.shape, test_dataset.targets.shape)\n",
    "\n",
    "train_dataset_orgin.data = train_dataset_orgin.data.view(-1, 28*28)\n",
    "test_dataset.data = test_dataset.data.view(-1, 28*28)\n",
    "\n",
    "print(train_dataset_orgin.data.shape, train_dataset_orgin.targets.shape)\n",
    "print(test_dataset.data.shape, test_dataset.targets.shape)\n",
    "\n",
    "N = len(train_dataset_orgin)\n",
    "print(f\"Number of training samples: {N}\")\n",
    "N_train = int(0.9*N)\n",
    "N_val = N - N_train\n",
    "print(f\"Number of training samples: {N_train}\")\n",
    "print(f\"Number of validation samples: {N_val}\")\n",
    "\n",
    "train_dataset, val_dataset = torch.utils.data.random_split(train_dataset_orgin, [N_train, N_val])\n",
    "\n",
    "\n",
    "train_loader = DataLoader(dataset=train_dataset, batch_size=64, shuffle=True)\n",
    "val_loader = DataLoader(dataset=val_dataset, batch_size=64, shuffle=False)\n",
    "test_loader = DataLoader(dataset=test_dataset, batch_size=1000, shuffle=False)"
   ]
  },
  {
   "cell_type": "markdown",
   "metadata": {
    "id": "YA9-AmjXacfo"
   },
   "source": [
    "####  <span style=\"color:red\">**Question 2.1:**</span> Write the code to visualize a mini-batch in `train_loader` including its images and labels.\n",
    "\n",
    "<div style=\"text-align: right\"> <span style=\"color:red\">[5 points]</span> </div>"
   ]
  },
  {
   "cell_type": "code",
   "execution_count": 3,
   "metadata": {
    "id": "hQaLAtDJa0cA"
   },
   "outputs": [
    {
     "data": {
      "image/png": "[encoded data removed]",
      "text/plain": [
       "<Figure size 4800x300 with 64 Axes>"
      ]
     },
     "metadata": {},
     "output_type": "display_data"
    }
   ],
   "source": [
    "#Your code here\n",
    "def get_fashion_mnist_labels(labels):  #@save\n",
    "    \"\"\"返回Fashion-MNIST数据集的文本标签\"\"\"\n",
    "    text_labels = ['t-shirt', 'trouser', 'pullover', 'dress', 'coat',\n",
    "                   'sandal', 'shirt', 'sneaker', 'bag', 'ankle boot']\n",
    "    return [text_labels[int(i)] for i in labels]\n",
    "\n",
    "def show_images(imgs, num_rows, num_cols, titles=None, scale=1.5):  #@save\n",
    "    \"\"\"绘制图像列表\"\"\"\n",
    "    figsize = (num_cols * scale, num_rows * scale)\n",
    "    _, axes = plt.subplots(num_rows, num_cols, figsize=figsize)\n",
    "    axes = axes.flatten()\n",
    "    for i, (ax, img) in enumerate(zip(axes, imgs)):\n",
    "        if torch.is_tensor(img):\n",
    "            # 图片张量\n",
    "            ax.imshow(img.numpy())\n",
    "        else:\n",
    "            # PIL图片\n",
    "            ax.imshow(img)\n",
    "        ax.axes.get_xaxis().set_visible(False)\n",
    "        ax.axes.get_yaxis().set_visible(False)\n",
    "        if titles:\n",
    "            ax.set_title(titles[i])\n",
    "    return axes\n",
    "\n",
    "X, y = next(iter(train_loader))\n",
    "# data size is 64, so pic is too much to show, 2*32\n",
    "show_images(X.reshape(64, 28, 28), 2, 32, titles=get_fashion_mnist_labels(y));"
   ]
  },
  {
   "cell_type": "markdown",
   "metadata": {
    "id": "rbAPbf5YFIUT"
   },
   "source": [
    "####<span style=\"color:red\">**Question 2.2:**</span> Write the code for the feed-forward neural net using PyTorch\n",
    "\n",
    "<div style=\"text-align: right\"> <span style=\"color:red\">[5 points]</span> </div>"
   ]
  },
  {
   "cell_type": "markdown",
   "metadata": {
    "id": "63T9d4mlFT3v"
   },
   "source": [
    "We now develop a feed-forward neural network with the architecture $784 \\rightarrow 40(ReLU) \\rightarrow 30(ReLU) \\rightarrow 10(softmax)$. You can choose your own way to implement your network and an optimizer of interest. You should train model in $50$ epochs and evaluate the trained model on the test set."
   ]
  },
  {
   "cell_type": "code",
   "execution_count": 88,
   "metadata": {},
   "outputs": [
    {
     "name": "stdout",
     "output_type": "stream",
     "text": [
      "Epoch 1, Loss: 0.398716, Accuracy: 87.42%\n",
      "Epoch 2, Loss: 0.245499, Accuracy: 92.91%\n",
      "Epoch 3, Loss: 0.183662, Accuracy: 94.81%\n",
      "Epoch 4, Loss: 0.234346, Accuracy: 92.87%\n",
      "Epoch 5, Loss: 0.183594, Accuracy: 94.86%\n",
      "Epoch 6, Loss: 0.265418, Accuracy: 92.37%\n",
      "Epoch 7, Loss: 0.224711, Accuracy: 93.58%\n",
      "Epoch 8, Loss: 0.228267, Accuracy: 94.07%\n",
      "Epoch 9, Loss: 0.245346, Accuracy: 93.50%\n",
      "Epoch 10, Loss: 0.223548, Accuracy: 94.06%\n",
      "Epoch 11, Loss: 0.222836, Accuracy: 93.49%\n",
      "Epoch 12, Loss: 0.219304, Accuracy: 94.33%\n",
      "Epoch 13, Loss: 0.223311, Accuracy: 94.36%\n",
      "Epoch 14, Loss: 0.248320, Accuracy: 94.26%\n",
      "Epoch 15, Loss: 0.215974, Accuracy: 94.56%\n",
      "Epoch 16, Loss: 0.255906, Accuracy: 93.20%\n",
      "Epoch 17, Loss: 0.231782, Accuracy: 93.27%\n",
      "Epoch 18, Loss: 0.207959, Accuracy: 94.96%\n",
      "Epoch 19, Loss: 0.253688, Accuracy: 93.99%\n",
      "Epoch 20, Loss: 0.223497, Accuracy: 94.33%\n",
      "Epoch 21, Loss: 0.208982, Accuracy: 94.51%\n",
      "Epoch 22, Loss: 0.306056, Accuracy: 92.71%\n",
      "Epoch 23, Loss: 0.233298, Accuracy: 94.01%\n",
      "Epoch 24, Loss: 0.226529, Accuracy: 94.32%\n",
      "Epoch 25, Loss: 0.217608, Accuracy: 95.26%\n",
      "Epoch 26, Loss: 0.309355, Accuracy: 93.57%\n",
      "Epoch 27, Loss: 0.215282, Accuracy: 95.09%\n",
      "Epoch 28, Loss: 0.223347, Accuracy: 94.64%\n",
      "Epoch 29, Loss: 0.278505, Accuracy: 93.25%\n",
      "Epoch 30, Loss: 0.240997, Accuracy: 94.29%\n",
      "Epoch 31, Loss: 0.238936, Accuracy: 94.81%\n",
      "Epoch 32, Loss: 0.225338, Accuracy: 95.08%\n",
      "Epoch 33, Loss: 0.218699, Accuracy: 95.18%\n",
      "Epoch 34, Loss: 0.215514, Accuracy: 95.13%\n",
      "Epoch 35, Loss: 0.244605, Accuracy: 95.03%\n",
      "Epoch 36, Loss: 0.227547, Accuracy: 95.26%\n",
      "Epoch 37, Loss: 0.214211, Accuracy: 94.92%\n",
      "Epoch 38, Loss: 0.246655, Accuracy: 95.06%\n",
      "Epoch 39, Loss: 0.222503, Accuracy: 94.82%\n",
      "Epoch 40, Loss: 0.231424, Accuracy: 95.37%\n",
      "Epoch 41, Loss: 0.249302, Accuracy: 94.98%\n",
      "Epoch 42, Loss: 0.251762, Accuracy: 94.98%\n",
      "Epoch 43, Loss: 0.220146, Accuracy: 95.34%\n",
      "Epoch 44, Loss: 0.220226, Accuracy: 95.02%\n",
      "Epoch 45, Loss: 0.228077, Accuracy: 94.74%\n",
      "Epoch 46, Loss: 0.230933, Accuracy: 95.27%\n",
      "Epoch 47, Loss: 0.245969, Accuracy: 94.99%\n",
      "Epoch 48, Loss: 0.216544, Accuracy: 95.22%\n",
      "Epoch 49, Loss: 0.247720, Accuracy: 94.52%\n",
      "Epoch 50, Loss: 0.237023, Accuracy: 95.11%\n"
     ]
    }
   ],
   "source": [
    "class Neural(nn.Module):\n",
    "    def __init__(self):\n",
    "        super().__init__()\n",
    "        self.neural = nn.Sequential(\n",
    "            nn.Flatten(),\n",
    "            nn.Linear(in_features=784, out_features=40),\n",
    "            nn.ReLU(),\n",
    "            nn.Linear(in_features=40, out_features=30),\n",
    "            nn.ReLU(),\n",
    "            nn.Linear(in_features=30, out_features=10)\n",
    "        )\n",
    "\n",
    "    def forward(self, x):\n",
    "        return self.neural(x)\n",
    "\n",
    "# 假设你已经加载了训练集和测试集\n",
    "train_loader = DataLoader(train_dataset, batch_size=64, shuffle=True)\n",
    "test_loader = DataLoader(test_dataset, batch_size=64, shuffle=False)\n",
    "\n",
    "net = Neural()\n",
    "optimizer = torch.optim.Adam(net.parameters(), lr=0.01)\n",
    "loss_fn = nn.CrossEntropyLoss()\n",
    "\n",
    "costs = []\n",
    "epochs = 50\n",
    "\n",
    "for epoch in range(epochs):\n",
    "    net.train()\n",
    "    minibatch_cost = 0\n",
    "    for X, y in train_loader:\n",
    "        y_hat = net(X)\n",
    "        loss = loss_fn(y_hat, y)\n",
    "        optimizer.zero_grad()\n",
    "        loss.backward()\n",
    "        optimizer.step()\n",
    "\n",
    "    net.eval()\n",
    "    test_loss = 0\n",
    "    test_correct = 0\n",
    "    total_test_samples = 0\n",
    "    with torch.no_grad():\n",
    "        for X_test, y_test in test_loader:\n",
    "            y_test_hat = net(X_test)\n",
    "            test_loss += loss_fn(y_test_hat, y_test).item()\n",
    "            _, predicted = torch.max(y_test_hat.data, 1)\n",
    "            total_test_samples += y_test.size(0)\n",
    "            test_correct += (predicted == y_test).sum().item()\n",
    "\n",
    "    test_loss /= len(test_loader)\n",
    "    test_accuracy = 100 * test_correct / total_test_samples\n",
    "    print(f'Epoch {epoch+1}, Loss: {test_loss:.6f}, Accuracy: {test_accuracy:.2f}%')"
   ]
  },
  {
   "cell_type": "markdown",
   "metadata": {
    "id": "fL8l6YsdFPyC"
   },
   "source": [
    "####  <span style=\"color:red\">**Question 2.3:**</span> Tuning hyper-parameters with grid search\n",
    "<div style=\"text-align: right\"> <span style=\"color:red\">[5 points]</span> </div>\n"
   ]
  },
  {
   "cell_type": "markdown",
   "metadata": {
    "id": "NTFLMzEMFexC"
   },
   "source": [
    "Assume that you need to tune the number of neurons on the first and second hidden layers $n_1 \\in \\{20, 40\\}$, $n_2 \\in \\{20, 40\\}$  and the used activation function  $act \\in \\{sigmoid, tanh, relu\\}$. The network has the architecture pattern $784 \\rightarrow n_1 (act) \\rightarrow n_2(act) \\rightarrow 10(softmax)$ where $n_1, n_2$, and $act$ are in their grides. Write the code to tune the hyper-parameters $n_1, n_2$, and $act$. Note that you can freely choose the optimizer and learning rate of interest for this task."
   ]
  },
  {
   "cell_type": "code",
   "execution_count": 94,
   "metadata": {
    "id": "my69QbE4FuHO"
   },
   "outputs": [
    {
     "name": "stdout",
     "output_type": "stream",
     "text": [
      "Training model with: n1=20, n2=20, activation=sigmoid\n",
      "Epoch [1/10], Loss: 1.4097\n",
      "Epoch [2/10], Loss: 0.5402\n",
      "Epoch [3/10], Loss: 0.3634\n",
      "Epoch [4/10], Loss: 0.3007\n",
      "Epoch [5/10], Loss: 0.2668\n",
      "Epoch [6/10], Loss: 0.2439\n",
      "Epoch [7/10], Loss: 0.2269\n",
      "Epoch [8/10], Loss: 0.2141\n",
      "Epoch [9/10], Loss: 0.2042\n",
      "Epoch [10/10], Loss: 0.1954\n",
      "Test Accuracy: 0.9355, Test Loss: 0.2283\n",
      "Training model with: n1=20, n2=40, activation=sigmoid\n",
      "Epoch [1/10], Loss: 1.1799\n",
      "Epoch [2/10], Loss: 0.3917\n",
      "Epoch [3/10], Loss: 0.2994\n",
      "Epoch [4/10], Loss: 0.2604\n",
      "Epoch [5/10], Loss: 0.2336\n",
      "Epoch [6/10], Loss: 0.2150\n",
      "Epoch [7/10], Loss: 0.2007\n",
      "Epoch [8/10], Loss: 0.1898\n",
      "Epoch [9/10], Loss: 0.1794\n",
      "Epoch [10/10], Loss: 0.1735\n",
      "Test Accuracy: 0.9453, Test Loss: 0.1853\n",
      "Training model with: n1=40, n2=20, activation=sigmoid\n",
      "Epoch [1/10], Loss: 1.1982\n",
      "Epoch [2/10], Loss: 0.3903\n",
      "Epoch [3/10], Loss: 0.2697\n",
      "Epoch [4/10], Loss: 0.2177\n",
      "Epoch [5/10], Loss: 0.1850\n",
      "Epoch [6/10], Loss: 0.1623\n",
      "Epoch [7/10], Loss: 0.1470\n",
      "Epoch [8/10], Loss: 0.1346\n",
      "Epoch [9/10], Loss: 0.1250\n",
      "Epoch [10/10], Loss: 0.1170\n",
      "Test Accuracy: 0.9563, Test Loss: 0.1459\n",
      "Training model with: n1=40, n2=40, activation=sigmoid\n",
      "Epoch [1/10], Loss: 0.9655\n",
      "Epoch [2/10], Loss: 0.3196\n",
      "Epoch [3/10], Loss: 0.2317\n",
      "Epoch [4/10], Loss: 0.1876\n",
      "Epoch [5/10], Loss: 0.1595\n",
      "Epoch [6/10], Loss: 0.1389\n",
      "Epoch [7/10], Loss: 0.1275\n",
      "Epoch [8/10], Loss: 0.1155\n",
      "Epoch [9/10], Loss: 0.1061\n",
      "Epoch [10/10], Loss: 0.1013\n",
      "Test Accuracy: 0.9621, Test Loss: 0.1253\n",
      "Training model with: n1=20, n2=20, activation=tanh\n",
      "Epoch [1/10], Loss: 0.6271\n",
      "Epoch [2/10], Loss: 0.2810\n",
      "Epoch [3/10], Loss: 0.2352\n",
      "Epoch [4/10], Loss: 0.2148\n",
      "Epoch [5/10], Loss: 0.1997\n",
      "Epoch [6/10], Loss: 0.1882\n",
      "Epoch [7/10], Loss: 0.1800\n",
      "Epoch [8/10], Loss: 0.1738\n",
      "Epoch [9/10], Loss: 0.1717\n",
      "Epoch [10/10], Loss: 0.1648\n",
      "Test Accuracy: 0.9458, Test Loss: 0.1867\n",
      "Training model with: n1=20, n2=40, activation=tanh\n",
      "Epoch [1/10], Loss: 0.5033\n",
      "Epoch [2/10], Loss: 0.2542\n",
      "Epoch [3/10], Loss: 0.2132\n",
      "Epoch [4/10], Loss: 0.1916\n",
      "Epoch [5/10], Loss: 0.1795\n",
      "Epoch [6/10], Loss: 0.1685\n",
      "Epoch [7/10], Loss: 0.1610\n",
      "Epoch [8/10], Loss: 0.1545\n",
      "Epoch [9/10], Loss: 0.1506\n",
      "Epoch [10/10], Loss: 0.1453\n",
      "Test Accuracy: 0.9467, Test Loss: 0.1690\n",
      "Training model with: n1=40, n2=20, activation=tanh\n",
      "Epoch [1/10], Loss: 0.5381\n",
      "Epoch [2/10], Loss: 0.2273\n",
      "Epoch [3/10], Loss: 0.1805\n",
      "Epoch [4/10], Loss: 0.1549\n",
      "Epoch [5/10], Loss: 0.1416\n",
      "Epoch [6/10], Loss: 0.1331\n",
      "Epoch [7/10], Loss: 0.1235\n",
      "Epoch [8/10], Loss: 0.1179\n",
      "Epoch [9/10], Loss: 0.1162\n",
      "Epoch [10/10], Loss: 0.1066\n",
      "Test Accuracy: 0.9597, Test Loss: 0.1302\n",
      "Training model with: n1=40, n2=40, activation=tanh\n",
      "Epoch [1/10], Loss: 0.4370\n",
      "Epoch [2/10], Loss: 0.2081\n",
      "Epoch [3/10], Loss: 0.1726\n",
      "Epoch [4/10], Loss: 0.1503\n",
      "Epoch [5/10], Loss: 0.1360\n",
      "Epoch [6/10], Loss: 0.1257\n",
      "Epoch [7/10], Loss: 0.1175\n",
      "Epoch [8/10], Loss: 0.1113\n",
      "Epoch [9/10], Loss: 0.1044\n",
      "Epoch [10/10], Loss: 0.1026\n",
      "Test Accuracy: 0.9556, Test Loss: 0.1397\n",
      "Training model with: n1=20, n2=20, activation=relu\n",
      "Epoch [1/10], Loss: 0.6247\n",
      "Epoch [2/10], Loss: 0.3216\n",
      "Epoch [3/10], Loss: 0.2794\n",
      "Epoch [4/10], Loss: 0.2542\n",
      "Epoch [5/10], Loss: 0.2381\n",
      "Epoch [6/10], Loss: 0.2260\n",
      "Epoch [7/10], Loss: 0.2163\n",
      "Epoch [8/10], Loss: 0.2092\n",
      "Epoch [9/10], Loss: 0.2028\n",
      "Epoch [10/10], Loss: 0.1968\n",
      "Test Accuracy: 0.9406, Test Loss: 0.1910\n",
      "Training model with: n1=20, n2=40, activation=relu\n",
      "Epoch [1/10], Loss: 0.5557\n",
      "Epoch [2/10], Loss: 0.3023\n",
      "Epoch [3/10], Loss: 0.2615\n",
      "Epoch [4/10], Loss: 0.2378\n",
      "Epoch [5/10], Loss: 0.2171\n",
      "Epoch [6/10], Loss: 0.2049\n",
      "Epoch [7/10], Loss: 0.1954\n",
      "Epoch [8/10], Loss: 0.1891\n",
      "Epoch [9/10], Loss: 0.1804\n",
      "Epoch [10/10], Loss: 0.1747\n",
      "Test Accuracy: 0.9440, Test Loss: 0.1781\n",
      "Training model with: n1=40, n2=20, activation=relu\n",
      "Epoch [1/10], Loss: 0.5323\n",
      "Epoch [2/10], Loss: 0.2777\n",
      "Epoch [3/10], Loss: 0.2274\n",
      "Epoch [4/10], Loss: 0.1954\n",
      "Epoch [5/10], Loss: 0.1711\n",
      "Epoch [6/10], Loss: 0.1511\n",
      "Epoch [7/10], Loss: 0.1393\n",
      "Epoch [8/10], Loss: 0.1290\n",
      "Epoch [9/10], Loss: 0.1204\n",
      "Epoch [10/10], Loss: 0.1145\n",
      "Test Accuracy: 0.9602, Test Loss: 0.1314\n",
      "Training model with: n1=40, n2=40, activation=relu\n",
      "Epoch [1/10], Loss: 0.4925\n",
      "Epoch [2/10], Loss: 0.2808\n",
      "Epoch [3/10], Loss: 0.2368\n",
      "Epoch [4/10], Loss: 0.2048\n",
      "Epoch [5/10], Loss: 0.1785\n",
      "Epoch [6/10], Loss: 0.1600\n",
      "Epoch [7/10], Loss: 0.1478\n",
      "Epoch [8/10], Loss: 0.1345\n",
      "Epoch [9/10], Loss: 0.1258\n",
      "Epoch [10/10], Loss: 0.1218\n",
      "Test Accuracy: 0.9553, Test Loss: 0.1429\n",
      "Best model parameters: {'activation': 'sigmoid', 'n1': 40, 'n2': 40}\n",
      "Best model accuracy: 0.9621\n"
     ]
    }
   ],
   "source": [
    "#Your code here\n",
    "from sklearn.model_selection import ParameterGrid\n",
    "class NeuralNet(nn.Module):\n",
    "    def __init__(self, n1, n2, activation):\n",
    "        super(NeuralNet, self).__init__()\n",
    "        self.flatten = nn.Flatten()\n",
    "        self.fc1 = nn.Linear(784, n1)  \n",
    "        self.fc2 = nn.Linear(n1, n2)   \n",
    "        self.fc3 = nn.Linear(n2, 10)   \n",
    "        \n",
    "        if activation == 'sigmoid':\n",
    "            self.activation = nn.Sigmoid()\n",
    "        elif activation == 'tanh':\n",
    "            self.activation = nn.Tanh()\n",
    "        elif activation == 'relu':\n",
    "            self.activation = nn.ReLU()\n",
    "\n",
    "    def forward(self, x):\n",
    "        x = self.flatten(x)\n",
    "        x = self.activation(self.fc1(x)) \n",
    "        x = self.activation(self.fc2(x))  \n",
    "        x = self.fc3(x)  \n",
    "        return x\n",
    "\n",
    "def train_model(model, optimizer, loss_fn, train_loader, epochs):\n",
    "    for epoch in range(epochs):\n",
    "        model.train()  \n",
    "        running_loss = 0.0\n",
    "        for inputs, labels in train_loader:\n",
    "            outputs = model(inputs)\n",
    "            loss = loss_fn(outputs, labels)\n",
    "            optimizer.zero_grad() \n",
    "            loss.backward()      \n",
    "            optimizer.step()     \n",
    "            running_loss += loss.item()\n",
    "        \n",
    "       \n",
    "        print(f'Epoch [{epoch+1}/{epochs}], Loss: {running_loss/len(train_loader):.4f}')\n",
    "    \n",
    "def evaluate_model(model, loss_fn, test_loader):\n",
    "    model.eval()  \n",
    "    test_loss = 0.0\n",
    "    correct = 0\n",
    "    total = 0\n",
    "    \n",
    "    with torch.no_grad(): \n",
    "        for inputs, labels in test_loader:\n",
    "            outputs = model(inputs)  \n",
    "            loss = loss_fn(outputs, labels)  \n",
    "            test_loss += loss.item()  \n",
    "\n",
    "            # 计算准确率\n",
    "            _, predicted = torch.max(outputs, 1)  \n",
    "            total += labels.size(0)\n",
    "            correct += (predicted == labels).sum().item()\n",
    "\n",
    "    avg_loss = test_loss / len(test_loader) \n",
    "    accuracy = correct / total  \n",
    "    \n",
    "    return avg_loss, accuracy\n",
    " \n",
    "\n",
    "param_grid = {\n",
    "    'n1': [20, 40],            \n",
    "    'n2': [20, 40],           \n",
    "    'activation': ['sigmoid', 'tanh', 'relu']  \n",
    "}\n",
    "\n",
    "best_acc = 0.0  \n",
    "best_params = None  \n",
    "\n",
    "for params in ParameterGrid(param_grid):\n",
    "    print(f\"Training model with: n1={params['n1']}, n2={params['n2']}, activation={params['activation']}\")\n",
    "    \n",
    "    model = NeuralNet(n1=params['n1'], n2=params['n2'], activation=params['activation'])\n",
    "    \n",
    "    optimizer = torch.optim.Adam(model.parameters(), lr=0.001)  \n",
    "    \n",
    "    train_model(model, optimizer, loss_fn, train_loader, epochs=10)\n",
    "    \n",
    "    test_loss, test_acc = evaluate_model(model, loss_fn, test_loader)\n",
    "    print(f\"Test Accuracy: {test_acc:.4f}, Test Loss: {test_loss:.4f}\")\n",
    "    \n",
    "    if test_acc > best_acc:\n",
    "        best_acc = test_acc\n",
    "        best_params = params\n",
    "        best_model = model\n",
    "print(f\"Best model parameters: {best_params}\")\n",
    "print(f\"Best model accuracy: {best_acc:.4f}\")\n"
   ]
  },
  {
   "cell_type": "markdown",
   "metadata": {
    "id": "1S8V-qxfuuSJ"
   },
   "source": [
    "####  <span style=\"color:red\">**Question 2.4:**</span> Implement the loss with the form: $loss(p,y)=CE(1_{y},p)+\\lambda H(p)$ where $H(p)=-\\sum_{i=1}^{M}p_{i}\\log p_{i}$ is the entropy of $p$, $p$ is the prediction probabilities of a data point $x$ with the ground-truth label $y$, $1_y$ is an one-hot label, and $\\lambda >0$ is a trade-off parameter. Set $\\lambda = 0.1$ to train a model.\n",
    "\n",
    "<div style=\"text-align: right\"> <span style=\"color:red\">[5 points]</span> </div>\n"
   ]
  },
  {
   "cell_type": "code",
   "execution_count": 9,
   "metadata": {
    "id": "1hyqGH8EwcDb"
   },
   "outputs": [
    {
     "name": "stdout",
     "output_type": "stream",
     "text": [
      "Epoch 1, Loss: 0.517709, Accuracy: 82.63%\n",
      "Epoch 2, Loss: 0.476148, Accuracy: 84.21%\n",
      "Epoch 3, Loss: 0.448652, Accuracy: 85.54%\n",
      "Epoch 4, Loss: 0.437898, Accuracy: 85.60%\n",
      "Epoch 5, Loss: 0.486185, Accuracy: 84.62%\n",
      "Epoch 6, Loss: 0.452886, Accuracy: 85.94%\n",
      "Epoch 7, Loss: 0.472303, Accuracy: 84.61%\n",
      "Epoch 8, Loss: 0.440310, Accuracy: 86.15%\n",
      "Epoch 9, Loss: 0.447556, Accuracy: 85.70%\n",
      "Epoch 10, Loss: 0.419231, Accuracy: 87.01%\n",
      "Epoch 11, Loss: 0.435644, Accuracy: 86.19%\n",
      "Epoch 12, Loss: 0.437808, Accuracy: 86.36%\n",
      "Epoch 13, Loss: 0.440758, Accuracy: 85.94%\n",
      "Epoch 14, Loss: 0.461732, Accuracy: 85.72%\n",
      "Epoch 15, Loss: 0.431067, Accuracy: 86.63%\n",
      "Epoch 16, Loss: 0.446867, Accuracy: 85.66%\n",
      "Epoch 17, Loss: 0.437127, Accuracy: 86.57%\n",
      "Epoch 18, Loss: 0.483007, Accuracy: 86.07%\n",
      "Epoch 19, Loss: 0.464922, Accuracy: 85.96%\n",
      "Epoch 20, Loss: 0.445356, Accuracy: 86.62%\n",
      "Epoch 21, Loss: 0.436292, Accuracy: 86.69%\n",
      "Epoch 22, Loss: 0.437333, Accuracy: 86.72%\n",
      "Epoch 23, Loss: 0.468190, Accuracy: 85.87%\n",
      "Epoch 24, Loss: 0.442119, Accuracy: 86.33%\n",
      "Epoch 25, Loss: 0.476680, Accuracy: 86.28%\n",
      "Epoch 26, Loss: 0.460572, Accuracy: 86.65%\n",
      "Epoch 27, Loss: 0.449848, Accuracy: 86.77%\n",
      "Epoch 28, Loss: 0.444003, Accuracy: 86.57%\n",
      "Epoch 29, Loss: 0.443895, Accuracy: 86.42%\n",
      "Epoch 30, Loss: 0.483884, Accuracy: 85.87%\n",
      "Epoch 31, Loss: 0.479883, Accuracy: 86.88%\n",
      "Epoch 32, Loss: 0.463132, Accuracy: 86.68%\n",
      "Epoch 33, Loss: 0.505114, Accuracy: 85.66%\n",
      "Epoch 34, Loss: 0.446129, Accuracy: 86.49%\n",
      "Epoch 35, Loss: 0.461023, Accuracy: 86.83%\n",
      "Epoch 36, Loss: 0.460835, Accuracy: 86.97%\n",
      "Epoch 37, Loss: 0.492488, Accuracy: 86.19%\n",
      "Epoch 38, Loss: 0.473001, Accuracy: 86.65%\n",
      "Epoch 39, Loss: 0.471880, Accuracy: 86.90%\n",
      "Epoch 40, Loss: 0.498470, Accuracy: 86.63%\n",
      "Epoch 41, Loss: 0.488243, Accuracy: 86.12%\n",
      "Epoch 42, Loss: 0.483408, Accuracy: 86.82%\n",
      "Epoch 43, Loss: 0.520140, Accuracy: 86.81%\n",
      "Epoch 44, Loss: 0.482581, Accuracy: 86.41%\n",
      "Epoch 45, Loss: 0.503909, Accuracy: 85.97%\n",
      "Epoch 46, Loss: 0.493845, Accuracy: 86.14%\n",
      "Epoch 47, Loss: 0.532753, Accuracy: 85.20%\n",
      "Epoch 48, Loss: 0.479183, Accuracy: 86.77%\n",
      "Epoch 49, Loss: 0.468290, Accuracy: 86.99%\n",
      "Epoch 50, Loss: 0.486169, Accuracy: 86.96%\n"
     ]
    }
   ],
   "source": [
    "#Your code here\n",
    "class NeuralLoss(nn.Module):\n",
    "    def __init__(self,lambd=0.1):\n",
    "        super().__init__()\n",
    "        self.lambd = lambd\n",
    "        self.CrossEntropy = nn.CrossEntropyLoss()\n",
    "        self.neuralloss = nn.Sequential(\n",
    "            nn.Flatten(),\n",
    "            nn.Linear(in_features=784, out_features=40),\n",
    "            nn.ReLU(),\n",
    "            nn.Linear(in_features=40, out_features=30),\n",
    "            nn.ReLU(),\n",
    "            nn.Linear(in_features=30, out_features=10)\n",
    "        )\n",
    "\n",
    "    def forward(self, x, y=None):\n",
    "        y_hat = self.neuralloss(x)\n",
    "        if y is not None:\n",
    "            entropy = self.CrossEntropy(y_hat,y)\n",
    "            probs = torch.softmax(y_hat,dim=1)\n",
    "            entropyh = -torch.sum(probs*torch.log(probs+1e-10),dim=1)\n",
    "            entropy_loss = torch.mean(entropyh)\n",
    "            totoalloss = entropy_loss*self.lambd + entropy\n",
    "            return totoalloss\n",
    "        else:\n",
    "            return y_hat\n",
    "\n",
    "train_loader = DataLoader(train_dataset, batch_size=64, shuffle=True)\n",
    "test_loader = DataLoader(test_dataset, batch_size=64, shuffle=False)\n",
    "\n",
    "net = NeuralLoss(lambd=0.1)\n",
    "optimizer = torch.optim.Adam(net.parameters(), lr=0.005)\n",
    "\n",
    "costs = []\n",
    "epochs = 50\n",
    "\n",
    "for epoch in range(epochs):\n",
    "    net.train()\n",
    "    minibatch_cost = 0\n",
    "    for X, y in train_loader:\n",
    "        loss = net(X,y)\n",
    "        optimizer.zero_grad()\n",
    "        loss.backward()\n",
    "        optimizer.step()\n",
    "\n",
    "    net.eval()\n",
    "    test_loss = 0\n",
    "    test_correct = 0\n",
    "    total_test_samples = 0\n",
    "    with torch.no_grad():\n",
    "        for X_test, y_test in test_loader:\n",
    "            y_test_hat = net(X_test)\n",
    "            test_loss += net(X_test, y_test).item()\n",
    "            _, predicted = torch.max(y_test_hat.data, 1)\n",
    "            total_test_samples += y_test.size(0)\n",
    "            test_correct += (predicted == y_test).sum().item()\n",
    "\n",
    "    test_loss /= len(test_loader)\n",
    "    test_accuracy = 100 * test_correct / total_test_samples\n",
    "    print(f'Epoch {epoch+1}, Loss: {test_loss:.6f}, Accuracy: {test_accuracy:.2f}%')\n",
    "\n",
    "\n",
    "\n"
   ]
  },
  {
   "cell_type": "markdown",
   "metadata": {
    "id": "XE6eTfjyFogJ"
   },
   "source": [
    "####  <span style=\"color:red\">**Question 2.5:**</span> Experimenting with **sharpness-aware minimization** technique\n",
    "<div style=\"text-align: right\"> <span style=\"color:red\">[5 points]</span> </div>\n",
    "\n",
    "Sharpness-aware minimization (SAM) (i.e., [link for main paper](https://openreview.net/pdf?id=6Tm1mposlrM) from Google Deepmind) is a simple yet but efficient technique to improve the generalization ability of deep learning models on unseen data examples. In your research or your work, you might potentially use this idea. Your task is to read the paper and implement *Sharpness-aware minimization (SAM)*. Finally, you need to apply SAM to the best architecture found in **Question 2.3**.   "
   ]
  },
  {
   "cell_type": "code",
   "execution_count": null,
   "metadata": {
    "id": "jVY6Zn32FdTW"
   },
   "outputs": [
    {
     "name": "stdout",
     "output_type": "stream",
     "text": [
      "Training model with: n1=20, n2=20, activation=sigmoid\n",
      "Epoch [1/10], Loss: 0.7687\n",
      "Epoch [2/10], Loss: 0.5488\n",
      "Epoch [3/10], Loss: 0.5144\n",
      "Epoch [4/10], Loss: 0.4956\n",
      "Epoch [5/10], Loss: 0.4777\n",
      "Epoch [6/10], Loss: 0.4765\n",
      "Epoch [7/10], Loss: 0.4706\n",
      "Epoch [8/10], Loss: 0.4632\n",
      "Epoch [9/10], Loss: 0.4581\n",
      "Epoch [10/10], Loss: 0.4498\n",
      "Test Accuracy: 0.8295, Test Loss: 0.4837\n",
      "Training model with: n1=20, n2=40, activation=sigmoid\n",
      "Epoch [1/10], Loss: 0.7390\n",
      "Epoch [2/10], Loss: 0.5386\n",
      "Epoch [3/10], Loss: 0.4956\n",
      "Epoch [4/10], Loss: 0.4798\n",
      "Epoch [5/10], Loss: 0.4595\n",
      "Epoch [6/10], Loss: 0.4597\n",
      "Epoch [7/10], Loss: 0.4621\n",
      "Epoch [8/10], Loss: 0.4474\n",
      "Epoch [9/10], Loss: 0.4465\n",
      "Epoch [10/10], Loss: 0.4465\n",
      "Test Accuracy: 0.8261, Test Loss: 0.4945\n",
      "Training model with: n1=40, n2=20, activation=sigmoid\n",
      "Epoch [1/10], Loss: 0.7670\n",
      "Epoch [2/10], Loss: 0.5565\n",
      "Epoch [3/10], Loss: 0.5211\n",
      "Epoch [4/10], Loss: 0.4954\n",
      "Epoch [5/10], Loss: 0.4759\n",
      "Epoch [6/10], Loss: 0.4709\n",
      "Epoch [7/10], Loss: 0.4536\n",
      "Epoch [8/10], Loss: 0.4496\n",
      "Epoch [9/10], Loss: 0.4479\n",
      "Epoch [10/10], Loss: 0.4445\n",
      "Test Accuracy: 0.8292, Test Loss: 0.4769\n",
      "Training model with: n1=40, n2=40, activation=sigmoid\n",
      "Epoch [1/10], Loss: 0.7181\n",
      "Epoch [2/10], Loss: 0.5413\n",
      "Epoch [3/10], Loss: 0.5130\n",
      "Epoch [4/10], Loss: 0.4870\n",
      "Epoch [5/10], Loss: 0.4678\n",
      "Epoch [6/10], Loss: 0.4542\n",
      "Epoch [7/10], Loss: 0.4511\n",
      "Epoch [8/10], Loss: 0.4572\n",
      "Epoch [9/10], Loss: 0.4472\n",
      "Epoch [10/10], Loss: 0.4429\n",
      "Test Accuracy: 0.8177, Test Loss: 0.4986\n",
      "Training model with: n1=20, n2=20, activation=tanh\n"
     ]
    }
   ],
   "source": [
    "#Your code here\n",
    "from sklearn.model_selection import ParameterGrid\n",
    "class NeuralNet(nn.Module):\n",
    "    def __init__(self, n1, n2, activation):\n",
    "        super(NeuralNet, self).__init__()\n",
    "        self.flatten = nn.Flatten()\n",
    "        self.fc1 = nn.Linear(784, n1)  \n",
    "        self.fc2 = nn.Linear(n1, n2)   \n",
    "        self.fc3 = nn.Linear(n2, 10)   \n",
    "        \n",
    "        if activation == 'sigmoid':\n",
    "            self.activation = nn.Sigmoid()\n",
    "        elif activation == 'tanh':\n",
    "            self.activation = nn.Tanh()\n",
    "        elif activation == 'relu':\n",
    "            self.activation = nn.ReLU()\n",
    "\n",
    "    def forward(self, x):\n",
    "        x = self.flatten(x)\n",
    "        x = self.activation(self.fc1(x)) \n",
    "        x = self.activation(self.fc2(x))  \n",
    "        x = self.fc3(x)  \n",
    "        return x\n",
    "\n",
    "class SAM(torch.optim.Optimizer):\n",
    "    def __init__(self,params, base_optimizer,rho=0.05,**kwargs):\n",
    "        self.base_optimizer = base_optimizer(params,**kwargs)\n",
    "        self.rho = rho\n",
    "        self.param_groups = self.base_optimizer.param_groups\n",
    "        \n",
    "    def _grad_norm(self):\n",
    "        norm = torch.norm(torch.stack([p.grad.norm(p=2) for p in self.param_groups[0]['params'] if p.grad is not None]))\n",
    "        return norm   \n",
    "    \n",
    "    def first_step(self):\n",
    "        grad_norm = self._grad_norm()\n",
    "        for p in self.param_groups[0]['params']:\n",
    "            if p.grad is None:continue\n",
    "            e_w = p.grad/(grad_norm+1e-12)*self.rho\n",
    "            p.add(e_w)\n",
    "        self.base_optimizer.zero_grad()\n",
    "    \n",
    "    def second_step(self):\n",
    "        self.base_optimizer.step()\n",
    "        self.base_optimizer.zero_grad()\n",
    "    \n",
    "    \n",
    "def train_model(model, optimizer, loss_fn, train_loader, epochs):\n",
    "    for epoch in range(epochs):\n",
    "        model.train()  \n",
    "        running_loss = 0.0\n",
    "        for inputs, labels in train_loader:\n",
    "            outputs = model(inputs)\n",
    "            loss = loss_fn(outputs, labels)\n",
    "            loss.backward()      \n",
    "            optimizer.first_step()\n",
    "            \n",
    "            outputs = model(inputs)\n",
    "            loss_fn(outputs,labels).backward()\n",
    "            optimizer.second_step()\n",
    "            running_loss += loss.item()\n",
    "         \n",
    "        print(f'Epoch [{epoch+1}/{epochs}], Loss: {running_loss/len(train_loader):.4f}')\n",
    "    \n",
    "def evaluate_model(model, loss_fn, test_loader):\n",
    "    model.eval()  \n",
    "    test_loss = 0.0\n",
    "    correct = 0\n",
    "    total = 0\n",
    "    \n",
    "    with torch.no_grad(): \n",
    "        for inputs, labels in test_loader:\n",
    "            outputs = model(inputs)  \n",
    "            loss = loss_fn(outputs, labels)  \n",
    "            test_loss += loss.item()  \n",
    "\n",
    "            # 计算准确率\n",
    "            _, predicted = torch.max(outputs, 1)  \n",
    "            total += labels.size(0)\n",
    "            correct += (predicted == labels).sum().item()\n",
    "\n",
    "    avg_loss = test_loss / len(test_loader) \n",
    "    accuracy = correct / total  \n",
    "    \n",
    "    return avg_loss, accuracy\n",
    " \n",
    "loss_fn = nn.CrossEntropyLoss()\n",
    "param_grid = {\n",
    "    'n1': [20, 40],            \n",
    "    'n2': [20, 40],           \n",
    "    'activation': ['sigmoid', 'tanh', 'relu']  \n",
    "}\n",
    "\n",
    "best_acc = 0.0  \n",
    "best_params = None  \n",
    "\n",
    "for params in ParameterGrid(param_grid):\n",
    "    print(f\"Training model with: n1={params['n1']}, n2={params['n2']}, activation={params['activation']}\")\n",
    "    \n",
    "    model = NeuralNet(n1=params['n1'], n2=params['n2'], activation=params['activation'])\n",
    "    \n",
    "    base_optimizer = torch.optim.Adam\n",
    "    optimizer = SAM(model.parameters(),base_optimizer,lr=0.01,rho=0.05)\n",
    "    \n",
    "    train_model(model, optimizer, loss_fn, train_loader, epochs=10)\n",
    "    \n",
    "    test_loss, test_acc = evaluate_model(model, loss_fn, test_loader)\n",
    "    print(f\"Test Accuracy: {test_acc:.4f}, Test Loss: {test_loss:.4f}\")\n",
    "    \n",
    "    if test_acc > best_acc:\n",
    "        best_acc = test_acc\n",
    "        best_params = params\n",
    "        best_model = model\n",
    "print(f\"Best model parameters: {best_params}\")\n",
    "print(f\"Best model accuracy: {best_acc:.4f}\")\n"
   ]
  },
  {
   "cell_type": "markdown",
   "metadata": {
    "id": "XeT8tJvCF6MC"
   },
   "source": [
    "## <span style=\"color:#0b486b\">Part 3: Convolutional Neural Networks and Image Classification</span>\n",
    "\n",
    "**<div style=\"text-align: right\"><span style=\"color:red\">[Total marks for this part: 45 points]</span></div>**"
   ]
  },
  {
   "cell_type": "markdown",
   "metadata": {
    "id": "L-gV4GWGGFgd"
   },
   "source": [
    "The third part of this assignment is to demonstrate your basis knowledge in deep learning that you have acquired from the lectures and tutorials materials. Most of the contents in this assignment are drawn from **the tutorials covered from weeks 3 to 6**. Going through these materials before attempting this assignment is highly recommended.\n",
    "\n",
    "**The dataset used for this part is a specific dataset for this unit consisting of approximately $10,000$ images of $20$ classes of Animals, each of which has approximately 500 images. You can download the dataset at [download here](https://drive.google.com/file/d/1aEkxNWaD02Z8ZNvZzeMefUoY97C-3wTG/view?usp=drive_link) if you want to do your assignment on your machine.**\n"
   ]
  },
  {
   "cell_type": "code",
   "execution_count": 17,
   "metadata": {
    "colab": {
     "base_uri": "https://localhost:8080/"
    },
    "id": "LQOmrtvqOC4c",
    "outputId": "5bfacc8f-3e90-4dd1-f307-fae7d8dd5331"
   },
   "outputs": [
    {
     "name": "stdout",
     "output_type": "stream",
     "text": [
      "CUDA is not available.  Training on CPU ...\n"
     ]
    },
    {
     "data": {
      "text/plain": [
       "<torch._C.Generator at 0x1d12f021850>"
      ]
     },
     "execution_count": 17,
     "metadata": {},
     "output_type": "execute_result"
    }
   ],
   "source": [
    "import os\n",
    "import requests\n",
    "import tarfile\n",
    "import time\n",
    "from torchvision import datasets, transforms\n",
    "from torch.utils.data import DataLoader, random_split\n",
    "import torchvision.models as models\n",
    "import torch.nn as nn\n",
    "import torch\n",
    "import PIL.Image\n",
    "import pathlib\n",
    "from torchsummary import summary\n",
    "import matplotlib.pyplot as plt\n",
    "%matplotlib inline\n",
    "import numpy as np\n",
    "\n",
    "# check if CUDA is available\n",
    "train_on_gpu = torch.cuda.is_available()\n",
    "\n",
    "if not train_on_gpu:\n",
    "    print('CUDA is not available.  Training on CPU ...')\n",
    "else:\n",
    "    print('CUDA is available!  Training on GPU ...')\n",
    "\n",
    "device = torch.device(\"cuda\" if torch.cuda.is_available() else \"cpu\")\n",
    "torch.manual_seed(1234)"
   ]
  },
  {
   "cell_type": "markdown",
   "metadata": {
    "id": "Y7jEL1WBIHnA"
   },
   "source": [
    "Download the dataset to the folder of this Google Colab."
   ]
  },
  {
   "cell_type": "code",
   "execution_count": 23,
   "metadata": {
    "colab": {
     "base_uri": "https://localhost:8080/"
    },
    "id": "Stl7B_TXF6pm",
    "outputId": "e140690b-6ea0-4ee4-f93b-c09c84ed895d"
   },
   "outputs": [
    {
     "name": "stderr",
     "output_type": "stream",
     "text": [
      "Failed to use proxy:\n",
      "\n",
      "\tHTTPSConnectionPool(host='drive.google.com', port=443): Max retries\n",
      "\texceeded with url: /uc?id=1aEkxNWaD02Z8ZNvZzeMefUoY97C-3wTG (Caused by\n",
      "\tProxyError('Cannot connect to proxy.',\n",
      "\tNewConnectionError('<urllib3.connection.HTTPSConnection object at\n",
      "\t0x000002447C7E48B0>: Failed to establish a new connection: [Errno\n",
      "\t11001] getaddrinfo failed')))\n",
      "\n",
      "Please check your proxy settings.\n"
     ]
    }
   ],
   "source": [
    "!gdown --fuzzy https://drive.google.com/file/d/1aEkxNWaD02Z8ZNvZzeMefUoY97C-3wTG/view?usp=drive_link"
   ]
  },
  {
   "cell_type": "markdown",
   "metadata": {
    "id": "ko5XBDZbNaS1"
   },
   "source": [
    "We unzip the dataset to the folder."
   ]
  },
  {
   "cell_type": "code",
   "execution_count": null,
   "metadata": {
    "id": "1wbwfqoXIYB_"
   },
   "outputs": [],
   "source": [
    "!unzip -q Animals_Dataset.zip"
   ]
  },
  {
   "cell_type": "code",
   "execution_count": null,
   "metadata": {
    "colab": {
     "base_uri": "https://localhost:8080/"
    },
    "id": "oWO7g-CJKoiZ",
    "outputId": "367a8aaa-7084-4dc7-fc48-48305a00dea9"
   },
   "outputs": [],
   "source": [
    "data_dir = \"./Dataset\"\n",
    "\n",
    "# We resize the images to [3,64,64]\n",
    "transform = transforms.Compose([transforms.Resize((64,64)),  #resises the image so it can be perfect for our model.\n",
    "                                      transforms.RandomHorizontalFlip(), # FLips the image w.r.t horizontal axis\n",
    "                                      #transforms.RandomRotation(4),     #Rotates the image to a specified angel\n",
    "                                      #transforms.RandomAffine(0, shear=10, scale=(0.8,1.2)), #Performs actions like zooms, change shear angles.\n",
    "                                      transforms.ColorJitter(brightness=0.2, contrast=0.2, saturation=0.2), # Set the color params\n",
    "                                      transforms.ToTensor(), # convert the image to tensor so that it can work with torch\n",
    "                                      transforms.Normalize((0.5, 0.5, 0.5), (0.5, 0.5, 0.5)),  # Normalize the images, each R,G,B value is normalized with mean=0.5 and std=0.5\n",
    "                                      ])\n",
    "\n",
    "\n",
    "# Load the dataset using torchvision.datasets.ImageFolder and apply transformations\n",
    "dataset = datasets.ImageFolder(data_dir, transform=transform)\n",
    "\n",
    "# Split the dataset into training and validation sets\n",
    "train_size = int(0.9 * len(dataset))\n",
    "valid_size = len(dataset) - train_size\n",
    "train_dataset, val_dataset = random_split(dataset, [train_size, valid_size])\n",
    "\n",
    "# Example of DataLoader creation for training and validation\n",
    "train_loader = DataLoader(train_dataset, batch_size=32, shuffle=True)\n",
    "val_loader = DataLoader(val_dataset, batch_size=32, shuffle=False)\n",
    "\n",
    "print(\"Number of instance in train_set: %s\" % len(train_dataset))\n",
    "print(\"Number of instance in val_set: %s\" % len(val_dataset))"
   ]
  },
  {
   "cell_type": "code",
   "execution_count": null,
   "metadata": {
    "id": "0DKq9D2kGQvB"
   },
   "outputs": [],
   "source": [
    "class_names = ['bird', 'bottle', 'bread', 'butterfly', 'cake', 'cat', 'chicken', 'cow', 'dog', 'duck',\n",
    "                  'elephant', 'fish', 'handgun', 'horse', 'lion', 'lipstick', 'seal', 'snake', 'spider', 'vase']"
   ]
  },
  {
   "cell_type": "code",
   "execution_count": null,
   "metadata": {
    "id": "-nENSxyBoNaW"
   },
   "outputs": [],
   "source": [
    "# obtain one batch of training images\n",
    "dataiter = iter(train_loader)\n",
    "images, labels = next(dataiter)\n",
    "images = images.numpy() # convert images to numpy for display"
   ]
  },
  {
   "cell_type": "code",
   "execution_count": null,
   "metadata": {
    "id": "lDStaFLqoS-v"
   },
   "outputs": [],
   "source": [
    "import math\n",
    "\n",
    "def imshow(img):\n",
    "    img = img / 2 + 0.5  # unnormalize\n",
    "    plt.imshow(np.transpose(img, (1, 2, 0)))  # convert from Tensor image\n",
    "\n",
    "def visualize_data(images, categories, images_per_row = 8):\n",
    "    class_names = ['bird', 'bottle', 'bread', 'butterfly', 'cake', 'cat', 'chicken', 'cow', 'dog', 'duck',\n",
    "                  'elephant', 'fish', 'handgun', 'horse', 'lion', 'lipstick', 'seal', 'snake', 'spider', 'vase']\n",
    "    n_images = len(images)\n",
    "    n_rows = math.ceil(float(n_images)/images_per_row)\n",
    "    fig = plt.figure(figsize=(1.5*images_per_row, 1.5*n_rows))\n",
    "    fig.patch.set_facecolor('white')\n",
    "    for i in range(n_images):\n",
    "        plt.subplot(n_rows, images_per_row, i+1)\n",
    "        plt.xticks([])\n",
    "        plt.yticks([])\n",
    "        imshow(images[i])\n",
    "        class_index = categories[i]\n",
    "        plt.xlabel(class_names[class_index])\n",
    "    plt.show()"
   ]
  },
  {
   "cell_type": "code",
   "execution_count": null,
   "metadata": {
    "colab": {
     "base_uri": "https://localhost:8080/",
     "height": 517
    },
    "id": "QSR8ovzSEUVs",
    "outputId": "59634239-913d-4517-efb4-b42dff028394"
   },
   "outputs": [],
   "source": [
    "visualize_data(images, labels)"
   ]
  },
  {
   "cell_type": "markdown",
   "metadata": {
    "id": "0dk_oxuKG_M6"
   },
   "source": [
    "**For questions 3.1 to 3.7, you'll need to write your own model in a way that makes it easy for you to experiment with different architectures and parameters. The goal is to be able to pass the parameters to initialize a new instance of `YourModel` to build different network architectures with different parameters. Below are descriptions of some parameters for `YourModel`:**"
   ]
  },
  {
   "cell_type": "markdown",
   "metadata": {
    "id": "A6mOc2ocQj61"
   },
   "source": [
    "1. `Block confirguration`: Our network consists of many blocks. Each block has the pattern `[conv, batch norm, activation, conv, batch norm, activation, max pool, dropout]`. All convolutional layers have filter size $(3, 3)$, strides $(1, 1)$ and padding = 1, and all max pool layers have strides $(2, 2)$, kernel size $2$, and padding = 0. The network will consists of a few blocks before applying a linear layer to output the logits for the softmax layer.\n",
    "\n",
    "2. `list_feature_maps`: the number of feature maps in the blocks of the network. For example, if `list_feature_maps = [16, 32, 64]`, our network has three blocks with the input_channels or number of feature maps are `16, 32`, and `64` respectively.\n",
    "3. `drop_rate`: the keep probability for dropout. Setting `drop_rate` to $0.0$ means not using dropout.\n",
    "4. `batch_norm`: the batch normalization function is used or not. Setting `batch_norm` to `false` means not using batch normalization.\n",
    "5. `use_skip`: the skip connection is used in the blocks or not. Setting this to `true` means that we use `1x1` Conv2D with `strides=2` for the skip connection.\n",
    "6. At the end, you need to apply `global average pooling (GAP)` (`AdaptiveAvgPool2d((1, 1))`) to flatten the 3D output tensor before defining the output linear layer for predicting the labels.\n",
    "\n"
   ]
  },
  {
   "cell_type": "markdown",
   "metadata": {
    "id": "hGSKRSjLztq1"
   },
   "source": [
    "Here is the model confirguration of `YourCNN` if the `list_feature_maps = [16, 32, 64]` and `batch_norm = true`."
   ]
  },
  {
   "cell_type": "markdown",
   "metadata": {
    "id": "JLD6ELP1zhnz"
   },
   "source": [
    "![image.png](data:image/png;base64,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)"
   ]
  },
  {
   "cell_type": "markdown",
   "metadata": {
    "id": "-CLBr6kwTS_y"
   },
   "source": [
    "<span style=\"color:red\">**Question 3.1:**</span> **You need to implement the aforementioned CNN**.\n",
    "\n",
    "**First, you need to implement the block of our CNN in the class `YourBlock`. You can ignore `use_skip` and `skip connection` for simplicity. However, you cannot earn full marks for this question.**\n",
    "\n",
    "<div style=\"text-align: right\"> <span style=\"color:red\">[6 points]</span> </div>"
   ]
  },
  {
   "cell_type": "code",
   "execution_count": null,
   "metadata": {
    "id": "B7CXV51JQJnZ"
   },
   "outputs": [],
   "source": [
    "#Your code here\n",
    "class YourBlock(nn.Module):\n",
    "  def __init__(self, in_feature_maps, out_feature_maps, drop_rate = 0.2, batch_norm = True, use_skip = True):\n",
    "    super(YourBlock, self).__init__()\n",
    "    self.use_skip = use_skip\n",
    "    #Your code here\n",
    "\n",
    "\n",
    "\n",
    "\n",
    "\n",
    "  def forward(self, x):\n",
    "    #Write your code here\n",
    "\n",
    "\n",
    "\n",
    "\n"
   ]
  },
  {
   "cell_type": "markdown",
   "metadata": {
    "id": "kLgsTTCsYWWZ"
   },
   "source": [
    "**Second, you need to use the above `YourBlock` to implement the class `YourCNN`**.\n",
    "\n",
    "<div style=\"text-align: right\"> <span style=\"color:red\">[6 points]</span> </div>"
   ]
  },
  {
   "cell_type": "code",
   "execution_count": null,
   "metadata": {
    "id": "hnOXOGLrQikB"
   },
   "outputs": [],
   "source": [
    "class YourCNN(nn.Module):\n",
    "  def __init__(self, list_feature_maps = [16, 32, 64], drop_rate = 0.2, batch_norm= True, use_skip = True):\n",
    "    super(YourCNN, self).__init__()\n",
    "    layers = []\n",
    "    #Write your code here\n",
    "\n",
    "\n",
    "\n",
    "  def forward(self, x):\n",
    "    #Write your code here\n",
    "\n"
   ]
  },
  {
   "cell_type": "markdown",
   "metadata": {
    "id": "5eQPXbkhQqMw"
   },
   "source": [
    "**We declare `my_cnn` from `YourCNN` as follows**."
   ]
  },
  {
   "cell_type": "code",
   "execution_count": null,
   "metadata": {
    "colab": {
     "base_uri": "https://localhost:8080/"
    },
    "id": "etLsDFD_coGB",
    "outputId": "f1a3fc2e-dbd6-4bc7-f30e-3b94740bd650"
   },
   "outputs": [],
   "source": [
    "device = torch.device(\"cuda:0\" if torch.cuda.is_available() else \"cpu\")\n",
    "my_cnn = YourCNN(list_feature_maps = [16, 32, 64], use_skip = True)\n",
    "my_cnn = my_cnn.to(device)\n",
    "print(my_cnn)"
   ]
  },
  {
   "cell_type": "markdown",
   "metadata": {
    "id": "Bk44wk-_Q337"
   },
   "source": [
    "**We declare the optimizer and the loss function.**"
   ]
  },
  {
   "cell_type": "code",
   "execution_count": null,
   "metadata": {
    "id": "czJ1OXguc-RK"
   },
   "outputs": [],
   "source": [
    "# Loss and optimizer\n",
    "learning_rate = 0.001\n",
    "loss_fn = nn.CrossEntropyLoss()\n",
    "optimizer = torch.optim.Adam(my_cnn.parameters(), lr=learning_rate)"
   ]
  },
  {
   "cell_type": "markdown",
   "metadata": {
    "id": "aLlIS7svRAAx"
   },
   "source": [
    "**Here are the codes to compute the loss and accuracy.**"
   ]
  },
  {
   "cell_type": "code",
   "execution_count": null,
   "metadata": {
    "id": "1MtKxLqlqTlS"
   },
   "outputs": [],
   "source": [
    "device = torch.device(\"cuda:0\" if torch.cuda.is_available() else \"cpu\")\n",
    "\n",
    "def compute_loss(model, loss_fn, loader):\n",
    "  loss = 0\n",
    "  # Set model to eval mode for inference\n",
    "  model.eval()\n",
    "  with torch.no_grad():  # No need to track gradients for validation\n",
    "    for (batchX, batchY) in loader:\n",
    "      # Move data to the same device as the model\n",
    "      batchX, batchY = batchX.to(device).type(torch.float32), batchY.to(device).type(torch.long)\n",
    "      loss += loss_fn(model(batchX), batchY)\n",
    "  # Set model back to train mode\n",
    "  model.train()\n",
    "  return float(loss)/len(loader)"
   ]
  },
  {
   "cell_type": "code",
   "execution_count": null,
   "metadata": {
    "id": "BuXTSdM4qdWa"
   },
   "outputs": [],
   "source": [
    "device = torch.device(\"cuda:0\" if torch.cuda.is_available() else \"cpu\")\n",
    "\n",
    "def compute_acc(model, loader):\n",
    "    correct = 0\n",
    "    totals = 0\n",
    "    # Set model to eval mode for inference\n",
    "    model.eval()\n",
    "    for (batchX, batchY) in loader:\n",
    "        # Move batchX and batchY to the same device as the model\n",
    "        batchX, batchY = batchX.to(device).type(torch.float32), batchY.to(device)\n",
    "        outputs = model(batchX)  # feed batch to the model\n",
    "        totals += batchY.size(0)  # accumulate totals with the current batch size\n",
    "        predicted = torch.argmax(outputs.data, 1)  # get the predicted class\n",
    "        # Move batchY to the same device as predicted for comparison\n",
    "        correct += (predicted == batchY).sum().item()\n",
    "    return correct / totals"
   ]
  },
  {
   "cell_type": "markdown",
   "metadata": {
    "id": "pi9Q4sAPRKka"
   },
   "source": [
    "**Here is the code to train our model.**"
   ]
  },
  {
   "cell_type": "code",
   "execution_count": null,
   "metadata": {
    "id": "YQAR1djfqhBv"
   },
   "outputs": [],
   "source": [
    "device = torch.device(\"cuda:0\" if torch.cuda.is_available() else \"cpu\")\n",
    "\n",
    "def fit(model= None, train_loader = None, valid_loader= None, optimizer = None,\n",
    "        num_epochs = 50, verbose = True, seed= 1234):\n",
    "  torch.manual_seed(seed)\n",
    "  # Move the model to the device before initializing the optimizer\n",
    "  model.to(device) # Move the model to the GPU\n",
    "\n",
    "  if optimizer == None:\n",
    "    optim = torch.optim.Adam(model.parameters(), lr = 0.001) # Now initialize optimizer with model on GPU\n",
    "  else:\n",
    "    optim = optimizer\n",
    "  history = dict()\n",
    "  history['val_loss'] = list()\n",
    "  history['val_acc'] = list()\n",
    "  history['train_loss'] = list()\n",
    "  history['train_acc'] = list()\n",
    "\n",
    "  for epoch in range(num_epochs):\n",
    "    model.train()\n",
    "    for (X, y) in train_loader:\n",
    "      # Move input data to the same device as the model\n",
    "      X,y = X.to(device), y.to(device)\n",
    "      # Forward pass\n",
    "      outputs = model(X.type(torch.float32)) # X is already on the correct device\n",
    "      loss = loss_fn(outputs, y.type(torch.long))\n",
    "      # Backward and optimize\n",
    "      optim.zero_grad()\n",
    "      loss.backward()\n",
    "      optim.step()\n",
    "      #losses and accuracies for epoch\n",
    "      val_loss = compute_loss(model, loss_fn, valid_loader)\n",
    "      val_acc = compute_acc(model, valid_loader)\n",
    "      train_loss = compute_loss(model, loss_fn, train_loader)\n",
    "      train_acc = compute_acc(model, train_loader)\n",
    "      history['val_loss'].append(val_loss)\n",
    "      history['val_acc'].append(val_acc)\n",
    "      history['train_loss'].append(train_loss)\n",
    "      history['train_acc'].append(train_acc)\n",
    "      if not verbose: #verbose = True means we do show the training information during training\n",
    "        print(f\"Epoch {epoch+1}/{num_epochs}\")\n",
    "        print(f\"train loss= {train_loss:.4f} - train acc= {train_acc*100:.2f}% - valid loss= {val_loss:.4f} - valid acc= {val_acc*100:.2f}%\")\n",
    "  return history"
   ]
  },
  {
   "cell_type": "code",
   "execution_count": null,
   "metadata": {
    "colab": {
     "base_uri": "https://localhost:8080/"
    },
    "id": "7LK8LskpqoT0",
    "outputId": "8639a969-082d-4a27-cb28-42bc52698851"
   },
   "outputs": [],
   "source": [
    "history = fit(model= my_cnn, train_loader=train_loader, valid_loader = val_loader, optimizer = optimizer, num_epochs= 10, verbose = False)"
   ]
  },
  {
   "cell_type": "markdown",
   "metadata": {
    "id": "yCnEIjQgrsFF"
   },
   "source": [
    "<span style=\"color:red\">**Question 3.2:**</span> **Now, let us tune the number of blocks $use\\_skip \\in \\{true,false\\}$ and $learning\\_rate \\in \\{0.001, 0.0005\\}$. Write your code for this tuning and report the result of the best model on the testing set. Note that you need to show your code for tuning and evaluating on the test set to earn the full marks. During tuning, you can set the instance variable `verbose` of your model to `True` for not showing the training details of each epoch.**\n",
    "\n",
    "Note that for this question, depending on your computational resource, you can choose `list_feature_maps= [32, 64]` or `list_feature_maps= [16, 32, 64]`.\n",
    "\n",
    "<div style=\"text-align: right\"> <span style=\"color:red\">[3 points]</span> </div>"
   ]
  },
  {
   "cell_type": "code",
   "execution_count": null,
   "metadata": {
    "id": "ii0vBXuDr2LF"
   },
   "outputs": [],
   "source": [
    "#Your code here\n",
    "\n",
    "\n"
   ]
  },
  {
   "cell_type": "markdown",
   "metadata": {
    "id": "fzXNIsLeYnUN"
   },
   "source": [
    "**Please note that if you struggle in implementing the aforementioned CNN, you can use the MiniVGG network in our labs for doing the following questions. However, you do not earn marks for 3.1 and 3.2.**"
   ]
  },
  {
   "cell_type": "markdown",
   "metadata": {
    "id": "wZmsXHRvr_Pg"
   },
   "source": [
    "<span style=\"color:red\">**Question 3.3:**</span> **Exploring Data Mixup Technique for Improving Generalization Ability.**\n",
    "   \n",
    "<div style=\"text-align: right\"> <span style=\"color:red\">[4 points]</span> </div>\n",
    "\n",
    "Data mixup is another super-simple technique used to boost the generalization ability of deep learning models. You need to incoroporate data mixup technique to the above deep learning model and experiment its performance. There are some papers and documents for data mixup as follows:\n",
    "- Main paper for data mixup [link for main paper](https://openreview.net/pdf?id=r1Ddp1-Rb) and a good article [article link](https://www.inference.vc/mixup-data-dependent-data-augmentation/).\n",
    "\n",
    "You need to extend your model developed above, train a model using data mixup, and write your observations and comments about the result."
   ]
  },
  {
   "cell_type": "code",
   "execution_count": null,
   "metadata": {
    "id": "rXhfqteasgQM"
   },
   "outputs": [],
   "source": [
    "#Your code here\n",
    "\n"
   ]
  },
  {
   "cell_type": "markdown",
   "metadata": {
    "id": "GEn3Gth_solr"
   },
   "source": [
    "<span style=\"color:red\">**Question 3.4:**</span> **Exploring CutMix Technique for Improving Generalization Ability.**\n",
    "   \n",
    "<div style=\"text-align: right\"> <span style=\"color:red\">[4 points]</span> </div>\n",
    "\n",
    "Data mixup is another super-simple technique used to boost the generalization ability of deep learning models. You need to incoroporate data mixup technique to the above deep learning model and experiment its performance. There are some papers and documents for data mixup as follows:\n",
    "- Main paper for Cutmix [link for main paper](https://arxiv.org/pdf/1905.04899v2) and a good article [article link](https://shorturl.at/TNwjv).\n",
    "\n",
    "You need to extend your model developed above, train a model using data mixup, and write your observations and comments about the result."
   ]
  },
  {
   "cell_type": "code",
   "execution_count": null,
   "metadata": {
    "id": "S9K37Ni3susY"
   },
   "outputs": [],
   "source": [
    "#Your code here\n",
    "\n"
   ]
  },
  {
   "cell_type": "markdown",
   "metadata": {
    "id": "TXguUFjfs70k"
   },
   "source": [
    "<span style=\"color:red\">**Question 3.5:**</span> Implement the **one-versus-all (OVA)** loss. The details are as follows:\n",
    "- You need to apply `the sigmoid activation function` to logits $h = [h_1, h_2,...,h_M]$ instead of `the softmax activation` function as usual to obtain $p = [p_1, p_2,...,p_M]$, meaning that $p_i = sigmoid(h_i), i=1,...,M$. Note that $M$ is the number of classes.\n",
    "- Given a data example $x$ with the ground-truth label $y$, the idea is to maximize the likelihood $p_y$ and to minimize the likelihoods $p_i, i \\neq y$. Therefore, the objective function is to find the model parameters to\n",
    "  - $\\max\\left\\{ \\log p_{y}+\\sum_{i\\neq y}\\log(1-p_{i})\\right\\}$ or equivalently $\\min\\left\\{ -\\log p_{y}-\\sum_{i\\neq y}\\log(1-p_{i})\\right\\}$.\n",
    "  - For example, if $M=3$ and $y=2$, you need to minimize $\\min\\left\\{ -\\log(1-p_{1})-\\log p_{2}-\\log(1-p_{3})\\right\\}$.\n",
    "\n",
    "Compare the model trained with the OVA loss and the same model trained with the standard cross-entropy loss.\n",
    "\n",
    "<div style=\"text-align: right\"> <span style=\"color:red\">[4 points]</span> </div>\n",
    "\n"
   ]
  },
  {
   "cell_type": "code",
   "execution_count": null,
   "metadata": {
    "id": "HUcNGykhs9Qz"
   },
   "outputs": [],
   "source": [
    "#Your code here\n",
    "\n",
    "\n"
   ]
  },
  {
   "cell_type": "markdown",
   "metadata": {
    "id": "ubbL_y1utaGu"
   },
   "source": [
    "<span style=\"color:red\">**Question 3.6:**</span> **Attack your best obtained model with PGD attacks with $\\epsilon= 0.0313, k=20, \\eta= 0.002$ on the testing set. Write the code for the attacks and report the robust accuracies. Also choose a random set of 20 clean images in the testing set and visualize the original and attacked images.**\n",
    "   \n",
    "<div style=\"text-align: right\"> <span style=\"color:red\">[4 points]</span> </div>"
   ]
  },
  {
   "cell_type": "code",
   "execution_count": null,
   "metadata": {
    "id": "nTIJ04tKRomh"
   },
   "outputs": [],
   "source": [
    "#Your code here\n",
    "\n",
    "\n"
   ]
  },
  {
   "cell_type": "markdown",
   "metadata": {
    "id": "NZKv042TtH59"
   },
   "source": [
    "<span style=\"color:red\">**Question 3.7:**</span> **Train a robust model using adversarial training with PGD ${\\epsilon= 0.0313, k=10, \\eta= 0.002}$. Write the code for the adversarial training and report the robust accuracies. After finishing the training, you need to store your best robust model in the folder `./models` and load the model to evaluate the robust accuracies for PGD and FGSM attacks with $\\epsilon= 0.0313, k=20, \\eta= 0.002$ on the testing set.**\n",
    "   \n",
    "<div style=\"text-align: right\"> <span style=\"color:red\">[4 points]</span> </div>"
   ]
  },
  {
   "cell_type": "code",
   "execution_count": null,
   "metadata": {
    "id": "EWG9cWQERs1c"
   },
   "outputs": [],
   "source": [
    "#Your code here\n",
    "\n",
    "\n"
   ]
  },
  {
   "cell_type": "markdown",
   "metadata": {
    "id": "7AALoztjtj7j"
   },
   "source": [
    "<span style=\"color:red\">**Question 3.8 (Kaggle competition)**</span>\n",
    "<div style=\"text-align: right\"> <span style=\"color:red\">[10 points]</span> </div10"
   ]
  },
  {
   "cell_type": "markdown",
   "metadata": {
    "id": "pJAQ8FXWtoOc"
   },
   "source": [
    "You can reuse the best model obtained in this assignment or develop new models to evaluate on the **testing set of the FIT3181/5215 Kaggle competion**. However, to gain any points for this question, your testing accuracy must **exceed** the accuracy threshold from a base model developed by us as shown in the leader board of the competition.\n",
    "\n",
    "The marks for this question are as follows:\n",
    "- If you are in *top 10%* of your cohort, you gain *10 points*.\n",
    "- If you are in *top 20%* of your cohort, you gain *8 points*.\n",
    "- If you are in *top 30%* of your cohort, you gain *6 points*.\n",
    "- If you *beat* our base model, you gain *4 points*."
   ]
  },
  {
   "cell_type": "markdown",
   "metadata": {
    "id": "GptPz307txEK"
   },
   "source": [
    "---\n",
    "**<div style=\"text-align: center\"> <span style=\"color:black\">END OF ASSIGNMENT</span> </div>**\n",
    "**<div style=\"text-align: center\"> <span style=\"color:black\">GOOD LUCK WITH YOUR ASSIGNMENT 1!</span> </div>**"
   ]
  }
 ],
 "metadata": {
  "colab": {
   "provenance": []
  },
  "kernelspec": {
   "display_name": "base",
   "language": "python",
   "name": "python3"
  },
  "language_info": {
   "codemirror_mode": {
    "name": "ipython",
    "version": 3
   },
   "file_extension": ".py",
   "mimetype": "text/x-python",
   "name": "python",
   "nbconvert_exporter": "python",
   "pygments_lexer": "ipython3",
   "version": "3.9.7"
  },
  "varInspector": {
   "cols": {
    "lenName": 16,
    "lenType": 16,
    "lenVar": 40
   },
   "kernels_config": {
    "python": {
     "delete_cmd_postfix": "",
     "delete_cmd_prefix": "del ",
     "library": "var_list.py",
     "varRefreshCmd": "print(var_dic_list())"
    },
    "r": {
     "delete_cmd_postfix": ") ",
     "delete_cmd_prefix": "rm(",
     "library": "var_list.r",
     "varRefreshCmd": "cat(var_dic_list()) "
    }
   },
   "oldHeight": 170.25,
   "position": {
    "height": "562.344px",
    "left": "2059.56px",
    "right": "20px",
    "top": "109.969px",
    "width": "688.681px"
   },
   "types_to_exclude": [
    "module",
    "function",
    "builtin_function_or_method",
    "instance",
    "_Feature"
   ],
   "varInspector_section_display": "block",
   "window_display": true
  }
 },
 "nbformat": 4,
 "nbformat_minor": 1
}
